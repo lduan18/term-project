{
 "cells": [
  {
   "cell_type": "markdown",
   "metadata": {},
   "source": [
    "# Use Apache spark to answer a few questions for the airline perform data\n"
   ]
  },
  {
   "cell_type": "markdown",
   "metadata": {},
   "source": [
    "## Airline Performance data - 2003.csv"
   ]
  },
  {
   "cell_type": "markdown",
   "metadata": {},
   "source": [
    "import packages"
   ]
  },
  {
   "cell_type": "code",
   "execution_count": 77,
   "metadata": {},
   "outputs": [],
   "source": [
    "from pyspark.sql import SparkSession\n",
    "from pyspark.sql.types import *\n",
    "import pyspark.sql.functions as f\n",
    "from pyspark.sql.functions import desc\n",
    "import pandas as pd"
   ]
  },
  {
   "cell_type": "markdown",
   "metadata": {},
   "source": [
    "Loading data from HDFS"
   ]
  },
  {
   "cell_type": "code",
   "execution_count": 84,
   "metadata": {},
   "outputs": [],
   "source": [
    "data = '/user/student/airline/2003.csv'\n",
    "df = spark.read.csv(data, header = True)"
   ]
  },
  {
   "cell_type": "code",
   "execution_count": 85,
   "metadata": {},
   "outputs": [
    {
     "data": {
      "text/plain": [
       "[Row(Year='1999', Month='1', DayofMonth='27', DayOfWeek='3', DepTime='1906', CRSDepTime='1908', ArrTime='2024', CRSArrTime='2005', UniqueCarrier='US', FlightNum='1244', TailNum='N942VJ', ActualElapsedTime='78', CRSElapsedTime='57', AirTime='66', ArrDelay='19', DepDelay='-2', Origin='RIC', Dest='PHL', Distance='198', TaxiIn='3', TaxiOut='9', Cancelled='0', CancellationCode='NA', Diverted='0', CarrierDelay='NA', WeatherDelay='NA', NASDelay='NA', SecurityDelay='NA', LateAircraftDelay='NA'),\n",
       " Row(Year='1999', Month='1', DayofMonth='28', DayOfWeek='4', DepTime='2016', CRSDepTime='1908', ArrTime='2126', CRSArrTime='2005', UniqueCarrier='US', FlightNum='1244', TailNum='N955VJ', ActualElapsedTime='70', CRSElapsedTime='57', AirTime='41', ArrDelay='81', DepDelay='68', Origin='RIC', Dest='PHL', Distance='198', TaxiIn='19', TaxiOut='10', Cancelled='0', CancellationCode='NA', Diverted='0', CarrierDelay='NA', WeatherDelay='NA', NASDelay='NA', SecurityDelay='NA', LateAircraftDelay='NA'),\n",
       " Row(Year='1999', Month='1', DayofMonth='29', DayOfWeek='5', DepTime='1907', CRSDepTime='1908', ArrTime='2000', CRSArrTime='2005', UniqueCarrier='US', FlightNum='1244', TailNum='N929VJ', ActualElapsedTime='53', CRSElapsedTime='57', AirTime='43', ArrDelay='-5', DepDelay='-1', Origin='RIC', Dest='PHL', Distance='198', TaxiIn='2', TaxiOut='8', Cancelled='0', CancellationCode='NA', Diverted='0', CarrierDelay='NA', WeatherDelay='NA', NASDelay='NA', SecurityDelay='NA', LateAircraftDelay='NA')]"
      ]
     },
     "execution_count": 85,
     "metadata": {},
     "output_type": "execute_result"
    }
   ],
   "source": [
    "df.take(3)"
   ]
  },
  {
   "cell_type": "markdown",
   "metadata": {},
   "source": [
    "Change departure and arrival delay data type from string to integer"
   ]
  },
  {
   "cell_type": "code",
   "execution_count": 86,
   "metadata": {},
   "outputs": [
    {
     "name": "stdout",
     "output_type": "stream",
     "text": [
      "root\n",
      " |-- Year: string (nullable = true)\n",
      " |-- Month: string (nullable = true)\n",
      " |-- DayofMonth: string (nullable = true)\n",
      " |-- DayOfWeek: string (nullable = true)\n",
      " |-- DepTime: string (nullable = true)\n",
      " |-- CRSDepTime: string (nullable = true)\n",
      " |-- ArrTime: string (nullable = true)\n",
      " |-- CRSArrTime: string (nullable = true)\n",
      " |-- UniqueCarrier: string (nullable = true)\n",
      " |-- FlightNum: string (nullable = true)\n",
      " |-- TailNum: string (nullable = true)\n",
      " |-- ActualElapsedTime: string (nullable = true)\n",
      " |-- CRSElapsedTime: string (nullable = true)\n",
      " |-- AirTime: string (nullable = true)\n",
      " |-- ArrDelay: string (nullable = true)\n",
      " |-- DepDelay: string (nullable = true)\n",
      " |-- Origin: string (nullable = true)\n",
      " |-- Dest: string (nullable = true)\n",
      " |-- Distance: string (nullable = true)\n",
      " |-- TaxiIn: string (nullable = true)\n",
      " |-- TaxiOut: string (nullable = true)\n",
      " |-- Cancelled: string (nullable = true)\n",
      " |-- CancellationCode: string (nullable = true)\n",
      " |-- Diverted: string (nullable = true)\n",
      " |-- CarrierDelay: string (nullable = true)\n",
      " |-- WeatherDelay: string (nullable = true)\n",
      " |-- NASDelay: string (nullable = true)\n",
      " |-- SecurityDelay: string (nullable = true)\n",
      " |-- LateAircraftDelay: string (nullable = true)\n",
      "\n",
      "root\n",
      " |-- Year: string (nullable = true)\n",
      " |-- Month: string (nullable = true)\n",
      " |-- DayofMonth: string (nullable = true)\n",
      " |-- DayOfWeek: string (nullable = true)\n",
      " |-- DepTime: string (nullable = true)\n",
      " |-- CRSDepTime: string (nullable = true)\n",
      " |-- ArrTime: string (nullable = true)\n",
      " |-- CRSArrTime: string (nullable = true)\n",
      " |-- UniqueCarrier: string (nullable = true)\n",
      " |-- FlightNum: string (nullable = true)\n",
      " |-- TailNum: string (nullable = true)\n",
      " |-- ActualElapsedTime: string (nullable = true)\n",
      " |-- CRSElapsedTime: string (nullable = true)\n",
      " |-- AirTime: string (nullable = true)\n",
      " |-- ArrDelay: integer (nullable = true)\n",
      " |-- DepDelay: integer (nullable = true)\n",
      " |-- Origin: string (nullable = true)\n",
      " |-- Dest: string (nullable = true)\n",
      " |-- Distance: string (nullable = true)\n",
      " |-- TaxiIn: string (nullable = true)\n",
      " |-- TaxiOut: string (nullable = true)\n",
      " |-- Cancelled: string (nullable = true)\n",
      " |-- CancellationCode: string (nullable = true)\n",
      " |-- Diverted: string (nullable = true)\n",
      " |-- CarrierDelay: string (nullable = true)\n",
      " |-- WeatherDelay: string (nullable = true)\n",
      " |-- NASDelay: string (nullable = true)\n",
      " |-- SecurityDelay: string (nullable = true)\n",
      " |-- LateAircraftDelay: string (nullable = true)\n",
      "\n"
     ]
    }
   ],
   "source": [
    "df.printSchema()\n",
    "df_1 = df.withColumn(\"DepDelay\", df[\"DepDelay\"].cast(IntegerType()))\n",
    "df_new = df_1.withColumn(\"ArrDelay\", df_1[\"ArrDelay\"].cast(IntegerType()))\n",
    "df_new.printSchema()"
   ]
  },
  {
   "cell_type": "markdown",
   "metadata": {},
   "source": [
    "### 1. Airports experience the most departure delay"
   ]
  },
  {
   "cell_type": "code",
   "execution_count": 87,
   "metadata": {},
   "outputs": [
    {
     "name": "stdout",
     "output_type": "stream",
     "text": [
      "+------+-------+\n",
      "|Origin|    sum|\n",
      "+------+-------+\n",
      "|   ORD|3353833|\n",
      "|   ATL|2848774|\n",
      "|   DFW|2397506|\n",
      "|   PHX|2068407|\n",
      "|   LAX|1773129|\n",
      "|   STL|1747251|\n",
      "|   DTW|1552289|\n",
      "|   SFO|1457665|\n",
      "|   PHL|1455167|\n",
      "|   LAS|1433130|\n",
      "|   EWR|1432011|\n",
      "|   CLT|1123673|\n",
      "|   IAH|1121677|\n",
      "|   DEN|1086055|\n",
      "|   MSP|1083438|\n",
      "|   BOS|1061244|\n",
      "|   SEA|1042344|\n",
      "|   PIT|1017102|\n",
      "|   LGA| 971872|\n",
      "|   MCO| 875637|\n",
      "+------+-------+\n",
      "only showing top 20 rows\n",
      "\n"
     ]
    }
   ],
   "source": [
    "df_delay_most = df_new.groupBy('Origin').agg(f.sum(\"DepDelay\").alias(\"sum\")).sort(desc(\"sum\"))\n",
    "df_delay_most.show()"
   ]
  },
  {
   "cell_type": "code",
   "execution_count": 88,
   "metadata": {},
   "outputs": [
    {
     "data": {
      "text/plain": [
       "<matplotlib.axes._subplots.AxesSubplot at 0x7fdac1886278>"
      ]
     },
     "execution_count": 88,
     "metadata": {},
     "output_type": "execute_result"
    },
    {
     "data": {
      "image/png": "[encoded data removed]",
      "text/plain": [
       "<Figure size 432x288 with 1 Axes>"
      ]
     },
     "metadata": {
      "needs_background": "light"
     },
     "output_type": "display_data"
    }
   ],
   "source": [
    "df_delay_most.limit(5).toPandas().plot.bar(x='Origin', y= 'sum')"
   ]
  },
  {
   "cell_type": "markdown",
   "metadata": {},
   "source": [
    "### 2. Airports experience the least departure delay"
   ]
  },
  {
   "cell_type": "code",
   "execution_count": 89,
   "metadata": {},
   "outputs": [
    {
     "name": "stdout",
     "output_type": "stream",
     "text": [
      "+------+-----+\n",
      "|Origin|  sum|\n",
      "+------+-----+\n",
      "|   GPT|-1671|\n",
      "|   VPS|-1123|\n",
      "|   SUX| -774|\n",
      "|   LFT|    6|\n",
      "|   PSC|   89|\n",
      "|   MOT|  210|\n",
      "|   MTJ|  222|\n",
      "|   BFL|  269|\n",
      "|   BGR|  424|\n",
      "|   BRO|  443|\n",
      "|   CHA|  451|\n",
      "|   LSE|  460|\n",
      "|   LWB|  583|\n",
      "|   FAY|  600|\n",
      "|   FWA|  607|\n",
      "|   AVL|  846|\n",
      "|   ELM|  992|\n",
      "|   DRO|  994|\n",
      "|   GUC| 1223|\n",
      "|   ITH| 1421|\n",
      "+------+-----+\n",
      "only showing top 20 rows\n",
      "\n"
     ]
    }
   ],
   "source": [
    "df_delay_least = df_new.groupBy('Origin').agg(f.sum(\"DepDelay\").alias(\"sum\")).orderBy(\"sum\")\n",
    "df_delay_least.show()"
   ]
  },
  {
   "cell_type": "code",
   "execution_count": 90,
   "metadata": {},
   "outputs": [
    {
     "data": {
      "text/plain": [
       "<matplotlib.axes._subplots.AxesSubplot at 0x7fdac1853630>"
      ]
     },
     "execution_count": 90,
     "metadata": {},
     "output_type": "execute_result"
    },
    {
     "data": {
      "image/png": "[encoded data removed]",
      "text/plain": [
       "<Figure size 432x288 with 1 Axes>"
      ]
     },
     "metadata": {
      "needs_background": "light"
     },
     "output_type": "display_data"
    }
   ],
   "source": [
    "df_delay_least.limit(5).toPandas().plot.bar(x='Origin', y= 'sum')"
   ]
  },
  {
   "cell_type": "markdown",
   "metadata": {},
   "source": [
    "### 3. Airports experience the most arrival delay"
   ]
  },
  {
   "cell_type": "code",
   "execution_count": 91,
   "metadata": {},
   "outputs": [
    {
     "name": "stdout",
     "output_type": "stream",
     "text": [
      "+----+-------+\n",
      "|Dest|    sum|\n",
      "+----+-------+\n",
      "| ORD|3337490|\n",
      "| ATL|2229930|\n",
      "| EWR|1705032|\n",
      "| SFO|1636873|\n",
      "| PHX|1558462|\n",
      "| LAX|1461523|\n",
      "| PHL|1325135|\n",
      "| DFW|1247144|\n",
      "| LGA|1221431|\n",
      "| LAS|1170910|\n",
      "| BOS|1123388|\n",
      "| SEA|1080434|\n",
      "| STL|1051882|\n",
      "| DEN| 882359|\n",
      "| BWI| 808500|\n",
      "| IAH| 778844|\n",
      "| PIT| 746842|\n",
      "| CLT| 721095|\n",
      "| MCO| 707162|\n",
      "| DTW| 684841|\n",
      "+----+-------+\n",
      "only showing top 20 rows\n",
      "\n"
     ]
    }
   ],
   "source": [
    "df_arrD_most = df_new.groupBy('Dest').agg(f.sum(\"ArrDelay\").alias(\"sum\")).sort(desc(\"sum\"))\n",
    "df_arrD_most.show()"
   ]
  },
  {
   "cell_type": "code",
   "execution_count": 92,
   "metadata": {},
   "outputs": [
    {
     "data": {
      "text/plain": [
       "<matplotlib.axes._subplots.AxesSubplot at 0x7fdac17d0240>"
      ]
     },
     "execution_count": 92,
     "metadata": {},
     "output_type": "execute_result"
    },
    {
     "data": {
      "image/png": "[encoded data removed]",
      "text/plain": [
       "<Figure size 432x288 with 1 Axes>"
      ]
     },
     "metadata": {
      "needs_background": "light"
     },
     "output_type": "display_data"
    }
   ],
   "source": [
    "df_arrD_most.limit(5).toPandas().plot.bar(x='Dest', y= 'sum')"
   ]
  },
  {
   "cell_type": "markdown",
   "metadata": {},
   "source": [
    "### 4. Airports experience the least arrival delay"
   ]
  },
  {
   "cell_type": "code",
   "execution_count": 94,
   "metadata": {},
   "outputs": [
    {
     "name": "stdout",
     "output_type": "stream",
     "text": [
      "+----+----+\n",
      "|Dest| sum|\n",
      "+----+----+\n",
      "| LIH|-952|\n",
      "| GPT|-933|\n",
      "| OGG|-651|\n",
      "| LFT|  23|\n",
      "| LSE|  26|\n",
      "| BRO|  69|\n",
      "| KOA| 224|\n",
      "| MOT| 269|\n",
      "| PIA| 419|\n",
      "| MTJ| 547|\n",
      "| DRO| 631|\n",
      "| BGR| 695|\n",
      "| FWA| 725|\n",
      "| LWB|1002|\n",
      "| GST|1192|\n",
      "| BFL|1761|\n",
      "| PSC|1961|\n",
      "| GUC|2261|\n",
      "| GTF|2417|\n",
      "| AVL|2526|\n",
      "+----+----+\n",
      "only showing top 20 rows\n",
      "\n"
     ]
    }
   ],
   "source": [
    "df_arrD_least = df_new.groupBy('Dest').agg(f.sum(\"ArrDelay\").alias(\"sum\")).orderBy(\"sum\")\n",
    "df_arrD_least.show()"
   ]
  },
  {
   "cell_type": "code",
   "execution_count": 95,
   "metadata": {},
   "outputs": [
    {
     "data": {
      "text/plain": [
       "<matplotlib.axes._subplots.AxesSubplot at 0x7fdac17541d0>"
      ]
     },
     "execution_count": 95,
     "metadata": {},
     "output_type": "execute_result"
    },
    {
     "data": {
      "image/png": "[encoded data removed]",
      "text/plain": [
       "<Figure size 432x288 with 1 Axes>"
      ]
     },
     "metadata": {
      "needs_background": "light"
     },
     "output_type": "display_data"
    }
   ],
   "source": [
    "df_arrD_least.limit(5).toPandas().plot.bar(x='Dest', y= 'sum')"
   ]
  },
  {
   "cell_type": "markdown",
   "metadata": {},
   "source": [
    "### 5. Flights experience the most arrival delay"
   ]
  },
  {
   "cell_type": "code",
   "execution_count": 59,
   "metadata": {},
   "outputs": [
    {
     "name": "stdout",
     "output_type": "stream",
     "text": [
      "+---------+-----+\n",
      "|FlightNum|  sum|\n",
      "+---------+-----+\n",
      "|      505|69530|\n",
      "|      360|64218|\n",
      "|      464|57720|\n",
      "|      568|56390|\n",
      "|     1139|54095|\n",
      "|      219|53401|\n",
      "|      758|53040|\n",
      "|      316|51347|\n",
      "|       61|50741|\n",
      "|      354|50467|\n",
      "|      419|50259|\n",
      "|     1612|49820|\n",
      "|      459|48308|\n",
      "|     1484|47640|\n",
      "|      240|47413|\n",
      "|     1474|46803|\n",
      "|      524|46779|\n",
      "|      520|46749|\n",
      "|       65|45613|\n",
      "|       79|45032|\n",
      "+---------+-----+\n",
      "only showing top 20 rows\n",
      "\n"
     ]
    }
   ],
   "source": [
    "df_arrD_most_f = df_new.groupBy('FlightNum').agg(f.sum(\"ArrDelay\").alias(\"sum\")).sort(desc(\"sum\"))\n",
    "df_arrD_most_f.show()"
   ]
  },
  {
   "cell_type": "code",
   "execution_count": 96,
   "metadata": {},
   "outputs": [
    {
     "data": {
      "text/plain": [
       "<matplotlib.axes._subplots.AxesSubplot at 0x7fdac1736320>"
      ]
     },
     "execution_count": 96,
     "metadata": {},
     "output_type": "execute_result"
    },
    {
     "data": {
      "image/png": "[encoded data removed]",
      "text/plain": [
       "<Figure size 432x288 with 1 Axes>"
      ]
     },
     "metadata": {
      "needs_background": "light"
     },
     "output_type": "display_data"
    }
   ],
   "source": [
    "df_arrD_most_f.limit(5).toPandas().plot.bar(x='FlightNum', y= 'sum')"
   ]
  },
  {
   "cell_type": "markdown",
   "metadata": {},
   "source": [
    "### 6. Flights experience the least arrival delay"
   ]
  },
  {
   "cell_type": "code",
   "execution_count": 61,
   "metadata": {},
   "outputs": [
    {
     "name": "stdout",
     "output_type": "stream",
     "text": [
      "+---------+-----+\n",
      "|FlightNum|  sum|\n",
      "+---------+-----+\n",
      "|        1|-4828|\n",
      "|     2451|-2531|\n",
      "|     2493|-2311|\n",
      "|     2551|-2069|\n",
      "|     2549|-2041|\n",
      "|     2698|-2027|\n",
      "|     2589|-1921|\n",
      "|     1413|-1835|\n",
      "|     2409|-1805|\n",
      "|     2383|-1758|\n",
      "|     2303|-1739|\n",
      "|     2333|-1702|\n",
      "|     2417|-1643|\n",
      "|     2585|-1577|\n",
      "|     2657|-1491|\n",
      "|     2491|-1466|\n",
      "|     1081|-1369|\n",
      "|      169|-1354|\n",
      "|     2601|-1112|\n",
      "|     1385|-1076|\n",
      "+---------+-----+\n",
      "only showing top 20 rows\n",
      "\n"
     ]
    }
   ],
   "source": [
    "df_arrD_least_f = df_new.groupBy('FlightNum').agg(f.sum(\"ArrDelay\").alias(\"sum\")).orderBy(\"sum\")\n",
    "df_arrD_least_f.show()"
   ]
  },
  {
   "cell_type": "code",
   "execution_count": 97,
   "metadata": {},
   "outputs": [
    {
     "data": {
      "text/plain": [
       "<matplotlib.axes._subplots.AxesSubplot at 0x7fdac16993c8>"
      ]
     },
     "execution_count": 97,
     "metadata": {},
     "output_type": "execute_result"
    },
    {
     "data": {
      "image/png": "[encoded data removed]",
      "text/plain": [
       "<Figure size 432x288 with 1 Axes>"
      ]
     },
     "metadata": {
      "needs_background": "light"
     },
     "output_type": "display_data"
    }
   ],
   "source": [
    "df_arrD_least_f.limit(5).toPandas().plot.bar(x='FlightNum', y= 'sum')"
   ]
  },
  {
   "cell_type": "markdown",
   "metadata": {},
   "source": [
    "### 7. Flights experience the most departure delay"
   ]
  },
  {
   "cell_type": "code",
   "execution_count": 63,
   "metadata": {},
   "outputs": [
    {
     "name": "stdout",
     "output_type": "stream",
     "text": [
      "+---------+-----+\n",
      "|FlightNum|  sum|\n",
      "+---------+-----+\n",
      "|      505|82722|\n",
      "|     1817|73192|\n",
      "|      849|66474|\n",
      "|       65|65171|\n",
      "|      219|63772|\n",
      "|       61|62264|\n",
      "|      360|59504|\n",
      "|      568|59053|\n",
      "|      678|58102|\n",
      "|      461|57970|\n",
      "|      563|57953|\n",
      "|      758|57697|\n",
      "|      316|56533|\n",
      "|      459|55394|\n",
      "|      205|55235|\n",
      "|      419|54356|\n",
      "|       39|54213|\n",
      "|      197|53741|\n",
      "|     1698|53352|\n",
      "|     2554|53261|\n",
      "+---------+-----+\n",
      "only showing top 20 rows\n",
      "\n"
     ]
    }
   ],
   "source": [
    "df_delay_most_f = df_new.groupBy('FlightNum').agg(f.sum(\"DepDelay\").alias(\"sum\")).sort(desc(\"sum\"))\n",
    "df_delay_most_f.show()"
   ]
  },
  {
   "cell_type": "code",
   "execution_count": 98,
   "metadata": {},
   "outputs": [
    {
     "data": {
      "text/plain": [
       "<matplotlib.axes._subplots.AxesSubplot at 0x7fdac160b5c0>"
      ]
     },
     "execution_count": 98,
     "metadata": {},
     "output_type": "execute_result"
    },
    {
     "data": {
      "image/png": "[encoded data removed]",
      "text/plain": [
       "<Figure size 432x288 with 1 Axes>"
      ]
     },
     "metadata": {
      "needs_background": "light"
     },
     "output_type": "display_data"
    }
   ],
   "source": [
    "df_delay_most_f.limit(5).toPandas().plot.bar(x='FlightNum', y= 'sum')"
   ]
  },
  {
   "cell_type": "markdown",
   "metadata": {
    "scrolled": true
   },
   "source": [
    "### 8. Flights experience the least departure delay"
   ]
  },
  {
   "cell_type": "code",
   "execution_count": 64,
   "metadata": {},
   "outputs": [
    {
     "name": "stdout",
     "output_type": "stream",
     "text": [
      "+---------+----+\n",
      "|FlightNum| sum|\n",
      "+---------+----+\n",
      "|     2551|-663|\n",
      "|     2589|-635|\n",
      "|     2549|-377|\n",
      "|     2300|-290|\n",
      "|     2523|-223|\n",
      "|     6448|-172|\n",
      "|     2579|-171|\n",
      "|     6438|-166|\n",
      "|     6449|-146|\n",
      "|     6404|-136|\n",
      "|     6447|-129|\n",
      "|     2500|-125|\n",
      "|     6515|-109|\n",
      "|     6451| -99|\n",
      "|     6527| -99|\n",
      "|     6446| -97|\n",
      "|     6450| -95|\n",
      "|     6444| -93|\n",
      "|     2698| -85|\n",
      "|     6442| -83|\n",
      "+---------+----+\n",
      "only showing top 20 rows\n",
      "\n"
     ]
    }
   ],
   "source": [
    "df_delay_least_f = df_new.groupBy('FlightNum').agg(f.sum(\"DepDelay\").alias(\"sum\")).orderBy(\"sum\")\n",
    "df_delay_least_f.show()"
   ]
  },
  {
   "cell_type": "code",
   "execution_count": 99,
   "metadata": {},
   "outputs": [
    {
     "data": {
      "text/plain": [
       "<matplotlib.axes._subplots.AxesSubplot at 0x7fdac15f4320>"
      ]
     },
     "execution_count": 99,
     "metadata": {},
     "output_type": "execute_result"
    },
    {
     "data": {
      "image/png": "[encoded data removed]",
      "text/plain": [
       "<Figure size 432x288 with 1 Axes>"
      ]
     },
     "metadata": {
      "needs_background": "light"
     },
     "output_type": "display_data"
    }
   ],
   "source": [
    "df_delay_least_f.limit(5).toPandas().plot.bar(x='FlightNum', y= 'sum')"
   ]
  },
  {
   "cell_type": "markdown",
   "metadata": {},
   "source": [
    "### 9. Average arrival delay per carrier"
   ]
  },
  {
   "cell_type": "code",
   "execution_count": 100,
   "metadata": {},
   "outputs": [
    {
     "name": "stdout",
     "output_type": "stream",
     "text": [
      "+-------------+------------------+\n",
      "|UniqueCarrier|               avg|\n",
      "+-------------+------------------+\n",
      "|           NW| 4.389880451576387|\n",
      "|           TW| 6.008880764633835|\n",
      "|           DL| 6.678932548316908|\n",
      "|           WN|7.4698429124716865|\n",
      "|           CO| 8.480354162613779|\n",
      "|           AA| 8.918916508042582|\n",
      "|           UA| 9.882414898898416|\n",
      "|           US|10.441609242053934|\n",
      "|           AS|11.003722522258553|\n",
      "|           HP|13.208234475185789|\n",
      "+-------------+------------------+\n",
      "\n"
     ]
    }
   ],
   "source": [
    "df_arrD_avg = df_new.groupBy('UniqueCarrier').agg(f.avg(\"ArrDelay\").alias(\"avg\")).orderBy(\"avg\")\n",
    "df_arrD_avg.show()"
   ]
  },
  {
   "cell_type": "code",
   "execution_count": 101,
   "metadata": {},
   "outputs": [
    {
     "data": {
      "text/plain": [
       "<matplotlib.axes._subplots.AxesSubplot at 0x7fdac156b470>"
      ]
     },
     "execution_count": 101,
     "metadata": {},
     "output_type": "execute_result"
    },
    {
     "data": {
      "image/png": "[encoded data removed]",
      "text/plain": [
       "<Figure size 432x288 with 1 Axes>"
      ]
     },
     "metadata": {
      "needs_background": "light"
     },
     "output_type": "display_data"
    }
   ],
   "source": [
    "df_arrD_avg.limit(5).toPandas().plot.bar(x='UniqueCarrier', y= 'avg')"
   ]
  },
  {
   "cell_type": "markdown",
   "metadata": {},
   "source": [
    "### 10. Average depature delay per carrier"
   ]
  },
  {
   "cell_type": "code",
   "execution_count": 81,
   "metadata": {},
   "outputs": [
    {
     "name": "stdout",
     "output_type": "stream",
     "text": [
      "+-------------+------------------+\n",
      "|UniqueCarrier|               avg|\n",
      "+-------------+------------------+\n",
      "|           NW| 6.718094058226521|\n",
      "|           DL| 8.062052674456261|\n",
      "|           TW|  8.20298647446099|\n",
      "|           CO| 9.118107321556213|\n",
      "|           AA|  9.84248138823221|\n",
      "|           UA| 9.899378991741754|\n",
      "|           WN|10.093180644314879|\n",
      "|           US|10.408952370620462|\n",
      "|           AS|10.887364496397627|\n",
      "|           HP|12.003973885892705|\n",
      "+-------------+------------------+\n",
      "\n"
     ]
    }
   ],
   "source": [
    "df_delay_avg = df_new.groupBy('UniqueCarrier').agg(f.avg(\"DepDelay\").alias(\"avg\")).orderBy(\"avg\")\n",
    "df_delay_avg.show()"
   ]
  },
  {
   "cell_type": "code",
   "execution_count": 80,
   "metadata": {},
   "outputs": [
    {
     "data": {
      "text/plain": [
       "<matplotlib.axes._subplots.AxesSubplot at 0x7fdac1943d68>"
      ]
     },
     "execution_count": 80,
     "metadata": {},
     "output_type": "execute_result"
    },
    {
     "data": {
      "image/png": "[encoded data removed]",
      "text/plain": [
       "<Figure size 432x288 with 1 Axes>"
      ]
     },
     "metadata": {
      "needs_background": "light"
     },
     "output_type": "display_data"
    }
   ],
   "source": [
    "df_delay_avg.limit(5).toPandas().plot.bar(x='UniqueCarrier', y= 'avg')"
   ]
  },
  {
   "cell_type": "code",
   "execution_count": null,
   "metadata": {},
   "outputs": [],
   "source": []
  }
 ],
 "metadata": {
  "kernelspec": {
   "display_name": "Python 3",
   "language": "python",
   "name": "python3"
  },
  "language_info": {
   "codemirror_mode": {
    "name": "ipython",
    "version": 3
   },
   "file_extension": ".py",
   "mimetype": "text/x-python",
   "name": "python",
   "nbconvert_exporter": "python",
   "pygments_lexer": "ipython3",
   "version": "3.6.9"
  }
 },
 "nbformat": 4,
 "nbformat_minor": 2
}
