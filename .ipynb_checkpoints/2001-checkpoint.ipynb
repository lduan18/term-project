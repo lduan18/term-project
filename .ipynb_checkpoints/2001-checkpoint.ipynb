{
 "cells": [
  {
   "cell_type": "markdown",
   "metadata": {},
   "source": [
    "# Use Apache spark to answer a few questions for the airline perform data\n"
   ]
  },
  {
   "cell_type": "markdown",
   "metadata": {},
   "source": [
    "## Airline Performance data - 2001.csv"
   ]
  },
  {
   "cell_type": "markdown",
   "metadata": {},
   "source": [
    "import packages"
   ]
  },
  {
   "cell_type": "code",
   "execution_count": 1,
   "metadata": {},
   "outputs": [],
   "source": [
    "from pyspark.sql import SparkSession\n",
    "from pyspark.sql.types import *\n",
    "import pyspark.sql.functions as f\n",
    "from pyspark.sql.functions import desc\n",
    "import pandas as pd"
   ]
  },
  {
   "cell_type": "markdown",
   "metadata": {},
   "source": [
    "Loading data from HDFS"
   ]
  },
  {
   "cell_type": "code",
   "execution_count": 2,
   "metadata": {},
   "outputs": [],
   "source": [
    "data = '/user/student/airline/2001.csv'\n",
    "df = spark.read.csv(data, header = True)"
   ]
  },
  {
   "cell_type": "code",
   "execution_count": 3,
   "metadata": {},
   "outputs": [
    {
     "data": {
      "text/plain": [
       "[Row(Year='2001', Month='1', DayofMonth='17', DayOfWeek='3', DepTime='1806', CRSDepTime='1810', ArrTime='1931', CRSArrTime='1934', UniqueCarrier='US', FlightNum='375', TailNum='N700��', ActualElapsedTime='85', CRSElapsedTime='84', AirTime='60', ArrDelay='-3', DepDelay='-4', Origin='BWI', Dest='CLT', Distance='361', TaxiIn='5', TaxiOut='20', Cancelled='0', CancellationCode='NA', Diverted='0', CarrierDelay='NA', WeatherDelay='NA', NASDelay='NA', SecurityDelay='NA', LateAircraftDelay='NA'),\n",
       " Row(Year='2001', Month='1', DayofMonth='18', DayOfWeek='4', DepTime='1805', CRSDepTime='1810', ArrTime='1938', CRSArrTime='1934', UniqueCarrier='US', FlightNum='375', TailNum='N713��', ActualElapsedTime='93', CRSElapsedTime='84', AirTime='64', ArrDelay='4', DepDelay='-5', Origin='BWI', Dest='CLT', Distance='361', TaxiIn='9', TaxiOut='20', Cancelled='0', CancellationCode='NA', Diverted='0', CarrierDelay='NA', WeatherDelay='NA', NASDelay='NA', SecurityDelay='NA', LateAircraftDelay='NA'),\n",
       " Row(Year='2001', Month='1', DayofMonth='19', DayOfWeek='5', DepTime='1821', CRSDepTime='1810', ArrTime='1957', CRSArrTime='1934', UniqueCarrier='US', FlightNum='375', TailNum='N702��', ActualElapsedTime='96', CRSElapsedTime='84', AirTime='80', ArrDelay='23', DepDelay='11', Origin='BWI', Dest='CLT', Distance='361', TaxiIn='6', TaxiOut='10', Cancelled='0', CancellationCode='NA', Diverted='0', CarrierDelay='NA', WeatherDelay='NA', NASDelay='NA', SecurityDelay='NA', LateAircraftDelay='NA')]"
      ]
     },
     "execution_count": 3,
     "metadata": {},
     "output_type": "execute_result"
    }
   ],
   "source": [
    "df.take(3)"
   ]
  },
  {
   "cell_type": "markdown",
   "metadata": {},
   "source": [
    "Change departure and arrival delay data type from string to integer"
   ]
  },
  {
   "cell_type": "code",
   "execution_count": 4,
   "metadata": {},
   "outputs": [
    {
     "name": "stdout",
     "output_type": "stream",
     "text": [
      "root\n",
      " |-- Year: string (nullable = true)\n",
      " |-- Month: string (nullable = true)\n",
      " |-- DayofMonth: string (nullable = true)\n",
      " |-- DayOfWeek: string (nullable = true)\n",
      " |-- DepTime: string (nullable = true)\n",
      " |-- CRSDepTime: string (nullable = true)\n",
      " |-- ArrTime: string (nullable = true)\n",
      " |-- CRSArrTime: string (nullable = true)\n",
      " |-- UniqueCarrier: string (nullable = true)\n",
      " |-- FlightNum: string (nullable = true)\n",
      " |-- TailNum: string (nullable = true)\n",
      " |-- ActualElapsedTime: string (nullable = true)\n",
      " |-- CRSElapsedTime: string (nullable = true)\n",
      " |-- AirTime: string (nullable = true)\n",
      " |-- ArrDelay: string (nullable = true)\n",
      " |-- DepDelay: string (nullable = true)\n",
      " |-- Origin: string (nullable = true)\n",
      " |-- Dest: string (nullable = true)\n",
      " |-- Distance: string (nullable = true)\n",
      " |-- TaxiIn: string (nullable = true)\n",
      " |-- TaxiOut: string (nullable = true)\n",
      " |-- Cancelled: string (nullable = true)\n",
      " |-- CancellationCode: string (nullable = true)\n",
      " |-- Diverted: string (nullable = true)\n",
      " |-- CarrierDelay: string (nullable = true)\n",
      " |-- WeatherDelay: string (nullable = true)\n",
      " |-- NASDelay: string (nullable = true)\n",
      " |-- SecurityDelay: string (nullable = true)\n",
      " |-- LateAircraftDelay: string (nullable = true)\n",
      "\n",
      "root\n",
      " |-- Year: string (nullable = true)\n",
      " |-- Month: string (nullable = true)\n",
      " |-- DayofMonth: string (nullable = true)\n",
      " |-- DayOfWeek: string (nullable = true)\n",
      " |-- DepTime: string (nullable = true)\n",
      " |-- CRSDepTime: string (nullable = true)\n",
      " |-- ArrTime: string (nullable = true)\n",
      " |-- CRSArrTime: string (nullable = true)\n",
      " |-- UniqueCarrier: string (nullable = true)\n",
      " |-- FlightNum: string (nullable = true)\n",
      " |-- TailNum: string (nullable = true)\n",
      " |-- ActualElapsedTime: string (nullable = true)\n",
      " |-- CRSElapsedTime: string (nullable = true)\n",
      " |-- AirTime: string (nullable = true)\n",
      " |-- ArrDelay: integer (nullable = true)\n",
      " |-- DepDelay: integer (nullable = true)\n",
      " |-- Origin: string (nullable = true)\n",
      " |-- Dest: string (nullable = true)\n",
      " |-- Distance: string (nullable = true)\n",
      " |-- TaxiIn: string (nullable = true)\n",
      " |-- TaxiOut: string (nullable = true)\n",
      " |-- Cancelled: string (nullable = true)\n",
      " |-- CancellationCode: string (nullable = true)\n",
      " |-- Diverted: string (nullable = true)\n",
      " |-- CarrierDelay: string (nullable = true)\n",
      " |-- WeatherDelay: string (nullable = true)\n",
      " |-- NASDelay: string (nullable = true)\n",
      " |-- SecurityDelay: string (nullable = true)\n",
      " |-- LateAircraftDelay: string (nullable = true)\n",
      "\n"
     ]
    }
   ],
   "source": [
    "df.printSchema()\n",
    "df_1 = df.withColumn(\"DepDelay\", df[\"DepDelay\"].cast(IntegerType()))\n",
    "df_new = df_1.withColumn(\"ArrDelay\", df_1[\"ArrDelay\"].cast(IntegerType()))\n",
    "df_new.printSchema()"
   ]
  },
  {
   "cell_type": "markdown",
   "metadata": {},
   "source": [
    "### 1. Airports experience the most departure delay"
   ]
  },
  {
   "cell_type": "code",
   "execution_count": 5,
   "metadata": {},
   "outputs": [
    {
     "name": "stdout",
     "output_type": "stream",
     "text": [
      "+------+-------+\n",
      "|Origin|    sum|\n",
      "+------+-------+\n",
      "|   ORD|3818332|\n",
      "|   DFW|2826325|\n",
      "|   ATL|2368182|\n",
      "|   LAX|1823789|\n",
      "|   PHX|1770294|\n",
      "|   DEN|1453709|\n",
      "|   LAS|1319051|\n",
      "|   BOS|1311689|\n",
      "|   DTW|1209613|\n",
      "|   STL|1187222|\n",
      "|   PHL|1083589|\n",
      "|   SFO|1045823|\n",
      "|   SEA|1020578|\n",
      "|   MSP|1014290|\n",
      "|   LGA| 924055|\n",
      "|   EWR| 912582|\n",
      "|   BWI| 881027|\n",
      "|   CLT| 812375|\n",
      "|   JFK| 805377|\n",
      "|   MIA| 780604|\n",
      "+------+-------+\n",
      "only showing top 20 rows\n",
      "\n"
     ]
    }
   ],
   "source": [
    "df_delay_most = df_new.groupBy('Origin').agg(f.sum(\"DepDelay\").alias(\"sum\")).sort(desc(\"sum\"))\n",
    "df_delay_most.show()"
   ]
  },
  {
   "cell_type": "code",
   "execution_count": 6,
   "metadata": {},
   "outputs": [
    {
     "data": {
      "text/plain": [
       "<matplotlib.axes._subplots.AxesSubplot at 0x7f620e979b00>"
      ]
     },
     "execution_count": 6,
     "metadata": {},
     "output_type": "execute_result"
    },
    {
     "data": {
      "image/png": "[encoded data removed]",
      "text/plain": [
       "<Figure size 432x288 with 1 Axes>"
      ]
     },
     "metadata": {
      "needs_background": "light"
     },
     "output_type": "display_data"
    }
   ],
   "source": [
    "df_delay_most.limit(5).toPandas().plot.bar(x='Origin', y= 'sum')"
   ]
  },
  {
   "cell_type": "markdown",
   "metadata": {},
   "source": [
    "### 2. Airports experience the least departure delay"
   ]
  },
  {
   "cell_type": "code",
   "execution_count": 7,
   "metadata": {},
   "outputs": [
    {
     "name": "stdout",
     "output_type": "stream",
     "text": [
      "+------+-----+\n",
      "|Origin|  sum|\n",
      "+------+-----+\n",
      "|   GTF|-3328|\n",
      "|   ILM|-2046|\n",
      "|   AVL|-2031|\n",
      "|   ITH|-1415|\n",
      "|   SJT|-1100|\n",
      "|   TRI| -881|\n",
      "|   ERI| -768|\n",
      "|   FAY| -753|\n",
      "|   TXK| -687|\n",
      "|   FNT| -672|\n",
      "|   BQN| -563|\n",
      "|   BIS| -495|\n",
      "|   MTJ| -402|\n",
      "|   GGG| -136|\n",
      "|   SUX| -113|\n",
      "|   RDR|  -61|\n",
      "|   ELM|  -44|\n",
      "|   ACY|  106|\n",
      "|   LWB|  112|\n",
      "|   FSM|  147|\n",
      "+------+-----+\n",
      "only showing top 20 rows\n",
      "\n"
     ]
    }
   ],
   "source": [
    "df_delay_least = df_new.groupBy('Origin').agg(f.sum(\"DepDelay\").alias(\"sum\")).orderBy(\"sum\")\n",
    "df_delay_least.show()"
   ]
  },
  {
   "cell_type": "code",
   "execution_count": 8,
   "metadata": {},
   "outputs": [
    {
     "data": {
      "text/plain": [
       "<matplotlib.axes._subplots.AxesSubplot at 0x7f620d577b00>"
      ]
     },
     "execution_count": 8,
     "metadata": {},
     "output_type": "execute_result"
    },
    {
     "data": {
      "image/png": "[encoded data removed]",
      "text/plain": [
       "<Figure size 432x288 with 1 Axes>"
      ]
     },
     "metadata": {
      "needs_background": "light"
     },
     "output_type": "display_data"
    }
   ],
   "source": [
    "df_delay_least.limit(5).toPandas().plot.bar(x='Origin', y= 'sum')"
   ]
  },
  {
   "cell_type": "markdown",
   "metadata": {},
   "source": [
    "### 3. Airports experience the most arrival delay"
   ]
  },
  {
   "cell_type": "code",
   "execution_count": 9,
   "metadata": {},
   "outputs": [
    {
     "name": "stdout",
     "output_type": "stream",
     "text": [
      "+----+-------+\n",
      "|Dest|    sum|\n",
      "+----+-------+\n",
      "| ORD|2514400|\n",
      "| LAX|1317228|\n",
      "| ATL|1189831|\n",
      "| DFW|1166589|\n",
      "| SEA|1029010|\n",
      "| PHX| 978219|\n",
      "| SFO| 947169|\n",
      "| PHL| 924078|\n",
      "| LAS| 810310|\n",
      "| DEN| 783708|\n",
      "| EWR| 728962|\n",
      "| BOS| 688695|\n",
      "| LGA| 633222|\n",
      "| STL| 629602|\n",
      "| BWI| 565565|\n",
      "| MIA| 517314|\n",
      "| SAN| 511770|\n",
      "| JFK| 509529|\n",
      "| MCO| 480351|\n",
      "| TPA| 442017|\n",
      "+----+-------+\n",
      "only showing top 20 rows\n",
      "\n"
     ]
    }
   ],
   "source": [
    "df_arrD_most = df_new.groupBy('Dest').agg(f.sum(\"ArrDelay\").alias(\"sum\")).sort(desc(\"sum\"))\n",
    "df_arrD_most.show()"
   ]
  },
  {
   "cell_type": "code",
   "execution_count": 10,
   "metadata": {},
   "outputs": [
    {
     "data": {
      "text/plain": [
       "<matplotlib.axes._subplots.AxesSubplot at 0x7f620d4f1b70>"
      ]
     },
     "execution_count": 10,
     "metadata": {},
     "output_type": "execute_result"
    },
    {
     "data": {
      "image/png": "[encoded data removed]",
      "text/plain": [
       "<Figure size 432x288 with 1 Axes>"
      ]
     },
     "metadata": {
      "needs_background": "light"
     },
     "output_type": "display_data"
    }
   ],
   "source": [
    "df_arrD_most.limit(5).toPandas().plot.bar(x='Dest', y= 'sum')"
   ]
  },
  {
   "cell_type": "markdown",
   "metadata": {},
   "source": [
    "### 4. Airports experience the least arrival delay"
   ]
  },
  {
   "cell_type": "code",
   "execution_count": 11,
   "metadata": {},
   "outputs": [
    {
     "name": "stdout",
     "output_type": "stream",
     "text": [
      "+----+-----+\n",
      "|Dest|  sum|\n",
      "+----+-----+\n",
      "| FAY|-1082|\n",
      "| FCA| -893|\n",
      "| ERI| -365|\n",
      "| TRI| -196|\n",
      "| LWB|  111|\n",
      "| GTF|  164|\n",
      "| SUX|  334|\n",
      "| RDR|  361|\n",
      "| DRO|  629|\n",
      "| CAK|  738|\n",
      "| GST|  850|\n",
      "| MAZ| 1010|\n",
      "| MTJ| 1039|\n",
      "| HLN| 1383|\n",
      "| ELM| 1569|\n",
      "| ITH| 1612|\n",
      "| CRW| 1708|\n",
      "| SBN| 1886|\n",
      "| BGM| 1907|\n",
      "| BRO| 2177|\n",
      "+----+-----+\n",
      "only showing top 20 rows\n",
      "\n"
     ]
    }
   ],
   "source": [
    "df_arrD_least = df_new.groupBy('Dest').agg(f.sum(\"ArrDelay\").alias(\"sum\")).orderBy(\"sum\")\n",
    "df_arrD_least.show()"
   ]
  },
  {
   "cell_type": "code",
   "execution_count": 12,
   "metadata": {},
   "outputs": [
    {
     "data": {
      "text/plain": [
       "<matplotlib.axes._subplots.AxesSubplot at 0x7f620d4d68d0>"
      ]
     },
     "execution_count": 12,
     "metadata": {},
     "output_type": "execute_result"
    },
    {
     "data": {
      "image/png": "[encoded data removed]",
      "text/plain": [
       "<Figure size 432x288 with 1 Axes>"
      ]
     },
     "metadata": {
      "needs_background": "light"
     },
     "output_type": "display_data"
    }
   ],
   "source": [
    "df_arrD_least.limit(5).toPandas().plot.bar(x='Dest', y= 'sum')"
   ]
  },
  {
   "cell_type": "markdown",
   "metadata": {},
   "source": [
    "### 5. Flights experience the most arrival delay"
   ]
  },
  {
   "cell_type": "code",
   "execution_count": 13,
   "metadata": {},
   "outputs": [
    {
     "name": "stdout",
     "output_type": "stream",
     "text": [
      "+---------+-----+\n",
      "|FlightNum|  sum|\n",
      "+---------+-----+\n",
      "|      252|44816|\n",
      "|      257|42734|\n",
      "|      478|41426|\n",
      "|      219|40922|\n",
      "|      677|40052|\n",
      "|      785|39978|\n",
      "|       65|39702|\n",
      "|       70|39544|\n",
      "|      244|39503|\n",
      "|      438|38945|\n",
      "|       64|37929|\n",
      "|      492|36922|\n",
      "|       61|36857|\n",
      "|      536|35701|\n",
      "|      725|35113|\n",
      "|      325|34970|\n",
      "|      457|34718|\n",
      "|      153|34545|\n",
      "|      592|34385|\n",
      "|       58|33903|\n",
      "+---------+-----+\n",
      "only showing top 20 rows\n",
      "\n"
     ]
    }
   ],
   "source": [
    "df_arrD_most_f = df_new.groupBy('FlightNum').agg(f.sum(\"ArrDelay\").alias(\"sum\")).sort(desc(\"sum\"))\n",
    "df_arrD_most_f.show()"
   ]
  },
  {
   "cell_type": "code",
   "execution_count": 14,
   "metadata": {
    "scrolled": true
   },
   "outputs": [
    {
     "data": {
      "text/plain": [
       "<matplotlib.axes._subplots.AxesSubplot at 0x7f620d444390>"
      ]
     },
     "execution_count": 14,
     "metadata": {},
     "output_type": "execute_result"
    },
    {
     "data": {
      "image/png": "[encoded data removed]",
      "text/plain": [
       "<Figure size 432x288 with 1 Axes>"
      ]
     },
     "metadata": {
      "needs_background": "light"
     },
     "output_type": "display_data"
    }
   ],
   "source": [
    "df_arrD_most_f.limit(5).toPandas().plot.bar(x='FlightNum', y= 'sum')"
   ]
  },
  {
   "cell_type": "markdown",
   "metadata": {},
   "source": [
    "### 6. Flights experience the least arrival delay"
   ]
  },
  {
   "cell_type": "code",
   "execution_count": null,
   "metadata": {},
   "outputs": [],
   "source": [
    "df_arrD_least_f = df_new.groupBy('FlightNum').agg(f.sum(\"ArrDelay\").alias(\"sum\")).orderBy(\"sum\")\n",
    "df_arrD_least_f.show()"
   ]
  },
  {
   "cell_type": "code",
   "execution_count": 17,
   "metadata": {},
   "outputs": [
    {
     "data": {
      "text/plain": [
       "<matplotlib.axes._subplots.AxesSubplot at 0x7f620d3bb668>"
      ]
     },
     "execution_count": 17,
     "metadata": {},
     "output_type": "execute_result"
    },
    {
     "data": {
      "image/png": "[encoded data removed]",
      "text/plain": [
       "<Figure size 432x288 with 1 Axes>"
      ]
     },
     "metadata": {
      "needs_background": "light"
     },
     "output_type": "display_data"
    }
   ],
   "source": [
    "df_arrD_least_f.limit(10).toPandas().plot.bar(x='FlightNum', y= 'sum')"
   ]
  },
  {
   "cell_type": "markdown",
   "metadata": {},
   "source": [
    "### 7. Flights experience the most departure delay"
   ]
  },
  {
   "cell_type": "code",
   "execution_count": 18,
   "metadata": {},
   "outputs": [
    {
     "name": "stdout",
     "output_type": "stream",
     "text": [
      "+---------+-----+\n",
      "|FlightNum|  sum|\n",
      "+---------+-----+\n",
      "|      197|56243|\n",
      "|       61|53643|\n",
      "|      219|52874|\n",
      "|      677|52552|\n",
      "|       65|51899|\n",
      "|      252|51357|\n",
      "|      257|51117|\n",
      "|      478|50246|\n",
      "|      438|47902|\n",
      "|      563|47565|\n",
      "|      536|47277|\n",
      "|      492|46634|\n",
      "|      785|46100|\n",
      "|       70|45047|\n",
      "|      481|44551|\n",
      "|     1854|44069|\n",
      "|      244|43882|\n",
      "|      153|43537|\n",
      "|      486|43445|\n",
      "|      496|43178|\n",
      "+---------+-----+\n",
      "only showing top 20 rows\n",
      "\n"
     ]
    }
   ],
   "source": [
    "df_delay_most_f = df_new.groupBy('FlightNum').agg(f.sum(\"DepDelay\").alias(\"sum\")).sort(desc(\"sum\"))\n",
    "df_delay_most_f.show()"
   ]
  },
  {
   "cell_type": "code",
   "execution_count": 19,
   "metadata": {},
   "outputs": [
    {
     "data": {
      "text/plain": [
       "<matplotlib.axes._subplots.AxesSubplot at 0x7f620d2bc4a8>"
      ]
     },
     "execution_count": 19,
     "metadata": {},
     "output_type": "execute_result"
    },
    {
     "data": {
      "image/png": "[encoded data removed]",
      "text/plain": [
       "<Figure size 432x288 with 1 Axes>"
      ]
     },
     "metadata": {
      "needs_background": "light"
     },
     "output_type": "display_data"
    }
   ],
   "source": [
    "df_delay_most_f.limit(5).toPandas().plot.bar(x='FlightNum', y= 'sum')"
   ]
  },
  {
   "cell_type": "markdown",
   "metadata": {
    "scrolled": true
   },
   "source": [
    "### 8. Flights experience the least departure delay"
   ]
  },
  {
   "cell_type": "code",
   "execution_count": 20,
   "metadata": {},
   "outputs": [
    {
     "name": "stdout",
     "output_type": "stream",
     "text": [
      "+---------+-----+\n",
      "|FlightNum|  sum|\n",
      "+---------+-----+\n",
      "|     4991| null|\n",
      "|     4847| null|\n",
      "|     4835| null|\n",
      "|     4833| null|\n",
      "|     5107| null|\n",
      "|     5108| null|\n",
      "|     3764|-1051|\n",
      "|     6803| -995|\n",
      "|     6806| -969|\n",
      "|     6859| -908|\n",
      "|     3554| -889|\n",
      "|     6857| -884|\n",
      "|     6810| -864|\n",
      "|     6863| -842|\n",
      "|     6808| -835|\n",
      "|     6402| -827|\n",
      "|     6853| -818|\n",
      "|     6855| -813|\n",
      "|     6861| -810|\n",
      "|     6854| -805|\n",
      "+---------+-----+\n",
      "only showing top 20 rows\n",
      "\n"
     ]
    }
   ],
   "source": [
    "df_delay_least_f = df_new.groupBy('FlightNum').agg(f.sum(\"DepDelay\").alias(\"sum\")).orderBy(\"sum\")\n",
    "df_delay_least_f.show()"
   ]
  },
  {
   "cell_type": "code",
   "execution_count": 22,
   "metadata": {},
   "outputs": [
    {
     "data": {
      "text/plain": [
       "<matplotlib.axes._subplots.AxesSubplot at 0x7f620d2a1898>"
      ]
     },
     "execution_count": 22,
     "metadata": {},
     "output_type": "execute_result"
    },
    {
     "data": {
      "image/png": "[encoded data removed]",
      "text/plain": [
       "<Figure size 432x288 with 1 Axes>"
      ]
     },
     "metadata": {
      "needs_background": "light"
     },
     "output_type": "display_data"
    }
   ],
   "source": [
    "df_delay_least_f.limit(10).toPandas().plot.bar(x='FlightNum', y= 'sum')"
   ]
  },
  {
   "cell_type": "markdown",
   "metadata": {},
   "source": [
    "### 9. Average arrival delay per carrier"
   ]
  },
  {
   "cell_type": "code",
   "execution_count": 23,
   "metadata": {},
   "outputs": [
    {
     "name": "stdout",
     "output_type": "stream",
     "text": [
      "+-------------+------------------+\n",
      "|UniqueCarrier|               avg|\n",
      "+-------------+------------------+\n",
      "|           NW| 3.151802560581363|\n",
      "|           CO|3.3232846269845395|\n",
      "|           US| 3.513551631755064|\n",
      "|           TW|4.2484949608438285|\n",
      "|           WN| 4.855821933876753|\n",
      "|           AQ| 4.888563890800643|\n",
      "|           DL| 4.984308254185548|\n",
      "|           AA| 5.782605193751565|\n",
      "|           MQ| 7.761099295787077|\n",
      "|           HP| 8.324058042302017|\n",
      "|           UA| 8.625530044317387|\n",
      "|           AS| 11.71687910390112|\n",
      "+-------------+------------------+\n",
      "\n"
     ]
    }
   ],
   "source": [
    "df_arrD_avg = df_new.groupBy('UniqueCarrier').agg(f.avg(\"ArrDelay\").alias(\"avg\")).orderBy(\"avg\")\n",
    "df_arrD_avg.show()"
   ]
  },
  {
   "cell_type": "code",
   "execution_count": 24,
   "metadata": {},
   "outputs": [
    {
     "data": {
      "text/plain": [
       "<matplotlib.axes._subplots.AxesSubplot at 0x7f620d1b1208>"
      ]
     },
     "execution_count": 24,
     "metadata": {},
     "output_type": "execute_result"
    },
    {
     "data": {
      "image/png": "[encoded data removed]",
      "text/plain": [
       "<Figure size 432x288 with 1 Axes>"
      ]
     },
     "metadata": {
      "needs_background": "light"
     },
     "output_type": "display_data"
    }
   ],
   "source": [
    "df_arrD_avg.limit(5).toPandas().plot.bar(x='UniqueCarrier', y= 'avg')"
   ]
  },
  {
   "cell_type": "markdown",
   "metadata": {},
   "source": [
    "### 10. Average depature delay per carrier"
   ]
  },
  {
   "cell_type": "code",
   "execution_count": 25,
   "metadata": {},
   "outputs": [
    {
     "name": "stdout",
     "output_type": "stream",
     "text": [
      "+-------------+------------------+\n",
      "|UniqueCarrier|               avg|\n",
      "+-------------+------------------+\n",
      "|           AQ| 4.199717065896882|\n",
      "|           CO| 5.541168762029567|\n",
      "|           NW|5.7991100783433644|\n",
      "|           US| 5.881444755763281|\n",
      "|           TW| 6.013394762610158|\n",
      "|           DL| 7.500545855609975|\n",
      "|           WN|  8.76108650459363|\n",
      "|           AA| 9.026835875605144|\n",
      "|           HP| 9.858909626719058|\n",
      "|           MQ|10.448874098089139|\n",
      "|           AS|10.971318930833478|\n",
      "|           UA| 11.03689434786824|\n",
      "+-------------+------------------+\n",
      "\n"
     ]
    }
   ],
   "source": [
    "df_delay_avg = df_new.groupBy('UniqueCarrier').agg(f.avg(\"DepDelay\").alias(\"avg\")).orderBy(\"avg\")\n",
    "df_delay_avg.show()"
   ]
  },
  {
   "cell_type": "code",
   "execution_count": 26,
   "metadata": {},
   "outputs": [
    {
     "data": {
      "text/plain": [
       "<matplotlib.axes._subplots.AxesSubplot at 0x7f620d1959b0>"
      ]
     },
     "execution_count": 26,
     "metadata": {},
     "output_type": "execute_result"
    },
    {
     "data": {
      "image/png": "[encoded data removed]",
      "text/plain": [
       "<Figure size 432x288 with 1 Axes>"
      ]
     },
     "metadata": {
      "needs_background": "light"
     },
     "output_type": "display_data"
    }
   ],
   "source": [
    "df_delay_avg.limit(5).toPandas().plot.bar(x='UniqueCarrier', y= 'avg')"
   ]
  },
  {
   "cell_type": "code",
   "execution_count": null,
   "metadata": {},
   "outputs": [],
   "source": []
  }
 ],
 "metadata": {
  "kernelspec": {
   "display_name": "Python 3",
   "language": "python",
   "name": "python3"
  },
  "language_info": {
   "codemirror_mode": {
    "name": "ipython",
    "version": 3
   },
   "file_extension": ".py",
   "mimetype": "text/x-python",
   "name": "python",
   "nbconvert_exporter": "python",
   "pygments_lexer": "ipython3",
   "version": "3.6.9"
  }
 },
 "nbformat": 4,
 "nbformat_minor": 2
}
