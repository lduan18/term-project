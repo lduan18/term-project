{
 "cells": [
  {
   "cell_type": "markdown",
   "metadata": {},
   "source": [
    "# Use Apache spark to answer a few questions for the airline perform data\n"
   ]
  },
  {
   "cell_type": "markdown",
   "metadata": {},
   "source": [
    "## Airline Performance data - 2002.csv"
   ]
  },
  {
   "cell_type": "markdown",
   "metadata": {},
   "source": [
    "import packages"
   ]
  },
  {
   "cell_type": "code",
   "execution_count": 1,
   "metadata": {},
   "outputs": [],
   "source": [
    "from pyspark.sql import SparkSession\n",
    "from pyspark.sql.types import *\n",
    "import pyspark.sql.functions as f\n",
    "from pyspark.sql.functions import desc\n",
    "import pandas as pd"
   ]
  },
  {
   "cell_type": "markdown",
   "metadata": {},
   "source": [
    "Loading data from HDFS"
   ]
  },
  {
   "cell_type": "code",
   "execution_count": 2,
   "metadata": {},
   "outputs": [],
   "source": [
    "data = '/user/student/airline/2002.csv'\n",
    "df = spark.read.csv(data, header = True)"
   ]
  },
  {
   "cell_type": "code",
   "execution_count": 3,
   "metadata": {},
   "outputs": [
    {
     "data": {
      "text/plain": [
       "[Row(Year='2002', Month='1', DayofMonth='13', DayOfWeek='7', DepTime='2231', CRSDepTime='2235', ArrTime='2342', CRSArrTime='2353', UniqueCarrier='US', FlightNum='723', TailNum='N709��', ActualElapsedTime='71', CRSElapsedTime='78', AirTime='55', ArrDelay='-11', DepDelay='-4', Origin='PIT', Dest='CLT', Distance='366', TaxiIn='3', TaxiOut='13', Cancelled='0', CancellationCode='NA', Diverted='0', CarrierDelay='NA', WeatherDelay='NA', NASDelay='NA', SecurityDelay='NA', LateAircraftDelay='NA'),\n",
       " Row(Year='2002', Month='1', DayofMonth='14', DayOfWeek='1', DepTime='2230', CRSDepTime='2235', ArrTime='2347', CRSArrTime='2353', UniqueCarrier='US', FlightNum='723', TailNum='N733��', ActualElapsedTime='77', CRSElapsedTime='78', AirTime='60', ArrDelay='-6', DepDelay='-5', Origin='PIT', Dest='CLT', Distance='366', TaxiIn='3', TaxiOut='14', Cancelled='0', CancellationCode='NA', Diverted='0', CarrierDelay='NA', WeatherDelay='NA', NASDelay='NA', SecurityDelay='NA', LateAircraftDelay='NA'),\n",
       " Row(Year='2002', Month='1', DayofMonth='15', DayOfWeek='2', DepTime='2230', CRSDepTime='2235', ArrTime='2342', CRSArrTime='2353', UniqueCarrier='US', FlightNum='723', TailNum='N758��', ActualElapsedTime='72', CRSElapsedTime='78', AirTime='55', ArrDelay='-11', DepDelay='-5', Origin='PIT', Dest='CLT', Distance='366', TaxiIn='3', TaxiOut='14', Cancelled='0', CancellationCode='NA', Diverted='0', CarrierDelay='NA', WeatherDelay='NA', NASDelay='NA', SecurityDelay='NA', LateAircraftDelay='NA')]"
      ]
     },
     "execution_count": 3,
     "metadata": {},
     "output_type": "execute_result"
    }
   ],
   "source": [
    "df.take(3)"
   ]
  },
  {
   "cell_type": "markdown",
   "metadata": {},
   "source": [
    "Change departure and arrival delay data type from string to integer"
   ]
  },
  {
   "cell_type": "code",
   "execution_count": 4,
   "metadata": {},
   "outputs": [
    {
     "name": "stdout",
     "output_type": "stream",
     "text": [
      "root\n",
      " |-- Year: string (nullable = true)\n",
      " |-- Month: string (nullable = true)\n",
      " |-- DayofMonth: string (nullable = true)\n",
      " |-- DayOfWeek: string (nullable = true)\n",
      " |-- DepTime: string (nullable = true)\n",
      " |-- CRSDepTime: string (nullable = true)\n",
      " |-- ArrTime: string (nullable = true)\n",
      " |-- CRSArrTime: string (nullable = true)\n",
      " |-- UniqueCarrier: string (nullable = true)\n",
      " |-- FlightNum: string (nullable = true)\n",
      " |-- TailNum: string (nullable = true)\n",
      " |-- ActualElapsedTime: string (nullable = true)\n",
      " |-- CRSElapsedTime: string (nullable = true)\n",
      " |-- AirTime: string (nullable = true)\n",
      " |-- ArrDelay: string (nullable = true)\n",
      " |-- DepDelay: string (nullable = true)\n",
      " |-- Origin: string (nullable = true)\n",
      " |-- Dest: string (nullable = true)\n",
      " |-- Distance: string (nullable = true)\n",
      " |-- TaxiIn: string (nullable = true)\n",
      " |-- TaxiOut: string (nullable = true)\n",
      " |-- Cancelled: string (nullable = true)\n",
      " |-- CancellationCode: string (nullable = true)\n",
      " |-- Diverted: string (nullable = true)\n",
      " |-- CarrierDelay: string (nullable = true)\n",
      " |-- WeatherDelay: string (nullable = true)\n",
      " |-- NASDelay: string (nullable = true)\n",
      " |-- SecurityDelay: string (nullable = true)\n",
      " |-- LateAircraftDelay: string (nullable = true)\n",
      "\n",
      "root\n",
      " |-- Year: string (nullable = true)\n",
      " |-- Month: string (nullable = true)\n",
      " |-- DayofMonth: string (nullable = true)\n",
      " |-- DayOfWeek: string (nullable = true)\n",
      " |-- DepTime: string (nullable = true)\n",
      " |-- CRSDepTime: string (nullable = true)\n",
      " |-- ArrTime: string (nullable = true)\n",
      " |-- CRSArrTime: string (nullable = true)\n",
      " |-- UniqueCarrier: string (nullable = true)\n",
      " |-- FlightNum: string (nullable = true)\n",
      " |-- TailNum: string (nullable = true)\n",
      " |-- ActualElapsedTime: string (nullable = true)\n",
      " |-- CRSElapsedTime: string (nullable = true)\n",
      " |-- AirTime: string (nullable = true)\n",
      " |-- ArrDelay: integer (nullable = true)\n",
      " |-- DepDelay: integer (nullable = true)\n",
      " |-- Origin: string (nullable = true)\n",
      " |-- Dest: string (nullable = true)\n",
      " |-- Distance: string (nullable = true)\n",
      " |-- TaxiIn: string (nullable = true)\n",
      " |-- TaxiOut: string (nullable = true)\n",
      " |-- Cancelled: string (nullable = true)\n",
      " |-- CancellationCode: string (nullable = true)\n",
      " |-- Diverted: string (nullable = true)\n",
      " |-- CarrierDelay: string (nullable = true)\n",
      " |-- WeatherDelay: string (nullable = true)\n",
      " |-- NASDelay: string (nullable = true)\n",
      " |-- SecurityDelay: string (nullable = true)\n",
      " |-- LateAircraftDelay: string (nullable = true)\n",
      "\n"
     ]
    }
   ],
   "source": [
    "df.printSchema()\n",
    "df_1 = df.withColumn(\"DepDelay\", df[\"DepDelay\"].cast(IntegerType()))\n",
    "df_new = df_1.withColumn(\"ArrDelay\", df_1[\"ArrDelay\"].cast(IntegerType()))\n",
    "df_new.printSchema()"
   ]
  },
  {
   "cell_type": "markdown",
   "metadata": {},
   "source": [
    "### 1. Airports experience the most departure delay"
   ]
  },
  {
   "cell_type": "code",
   "execution_count": 5,
   "metadata": {},
   "outputs": [
    {
     "name": "stdout",
     "output_type": "stream",
     "text": [
      "+------+-------+\n",
      "|Origin|    sum|\n",
      "+------+-------+\n",
      "|   ORD|2172227|\n",
      "|   ATL|1733402|\n",
      "|   DFW|1510932|\n",
      "|   PHX|1258186|\n",
      "|   DTW|1218354|\n",
      "|   LAS| 963682|\n",
      "|   LAX| 889169|\n",
      "|   BWI| 773187|\n",
      "|   MSP| 749882|\n",
      "|   PHL| 713538|\n",
      "|   SEA| 631878|\n",
      "|   STL| 594503|\n",
      "|   CLT| 590516|\n",
      "|   HOU| 585592|\n",
      "|   DEN| 561767|\n",
      "|   BOS| 544162|\n",
      "|   MDW| 539063|\n",
      "|   OAK| 518335|\n",
      "|   MCO| 428040|\n",
      "|   IAH| 412510|\n",
      "+------+-------+\n",
      "only showing top 20 rows\n",
      "\n"
     ]
    }
   ],
   "source": [
    "df_delay_most = df_new.groupBy('Origin').agg(f.sum(\"DepDelay\").alias(\"sum\")).sort(desc(\"sum\"))\n",
    "df_delay_most.show()"
   ]
  },
  {
   "cell_type": "code",
   "execution_count": 6,
   "metadata": {},
   "outputs": [
    {
     "data": {
      "text/plain": [
       "<matplotlib.axes._subplots.AxesSubplot at 0x7ff350eaf588>"
      ]
     },
     "execution_count": 6,
     "metadata": {},
     "output_type": "execute_result"
    },
    {
     "data": {
      "image/png": "[encoded data removed]",
      "text/plain": [
       "<Figure size 432x288 with 1 Axes>"
      ]
     },
     "metadata": {
      "needs_background": "light"
     },
     "output_type": "display_data"
    }
   ],
   "source": [
    "df_delay_most.limit(5).toPandas().plot.bar(x='Origin', y= 'sum')"
   ]
  },
  {
   "cell_type": "markdown",
   "metadata": {},
   "source": [
    "### 2. Airports experience the least departure delay"
   ]
  },
  {
   "cell_type": "code",
   "execution_count": 7,
   "metadata": {},
   "outputs": [
    {
     "name": "stdout",
     "output_type": "stream",
     "text": [
      "+------+-----+\n",
      "|Origin|  sum|\n",
      "+------+-----+\n",
      "|   AGS| null|\n",
      "|   SJT|-9557|\n",
      "|   SBA|-9517|\n",
      "|   TXK|-9096|\n",
      "|   LAW|-8664|\n",
      "|   FSM|-8281|\n",
      "|   CLL|-8126|\n",
      "|   SPS|-7023|\n",
      "|   FAR|-6425|\n",
      "|   GGG|-6393|\n",
      "|   ILM|-5685|\n",
      "|   ILE|-5221|\n",
      "|   ACT|-5195|\n",
      "|   TYR|-4220|\n",
      "|   AVL|-3950|\n",
      "|   SBP|-2913|\n",
      "|   LAN|-2860|\n",
      "|   GTF|-2562|\n",
      "|   MRY|-2284|\n",
      "|   HLN|-2197|\n",
      "+------+-----+\n",
      "only showing top 20 rows\n",
      "\n"
     ]
    }
   ],
   "source": [
    "df_delay_least = df_new.groupBy('Origin').agg(f.sum(\"DepDelay\").alias(\"sum\")).orderBy(\"sum\")\n",
    "df_delay_least.show()"
   ]
  },
  {
   "cell_type": "code",
   "execution_count": 8,
   "metadata": {},
   "outputs": [
    {
     "data": {
      "text/plain": [
       "<matplotlib.axes._subplots.AxesSubplot at 0x7ff34f91c278>"
      ]
     },
     "execution_count": 8,
     "metadata": {},
     "output_type": "execute_result"
    },
    {
     "data": {
      "image/png": "[encoded data removed]",
      "text/plain": [
       "<Figure size 432x288 with 1 Axes>"
      ]
     },
     "metadata": {
      "needs_background": "light"
     },
     "output_type": "display_data"
    }
   ],
   "source": [
    "df_delay_least.limit(5).toPandas().plot.bar(x='Origin', y= 'sum')"
   ]
  },
  {
   "cell_type": "markdown",
   "metadata": {},
   "source": [
    "### 3. Airports experience the most arrival delay"
   ]
  },
  {
   "cell_type": "code",
   "execution_count": 9,
   "metadata": {},
   "outputs": [
    {
     "name": "stdout",
     "output_type": "stream",
     "text": [
      "+----+-------+\n",
      "|Dest|    sum|\n",
      "+----+-------+\n",
      "| ATL|1526105|\n",
      "| ORD|1150239|\n",
      "| LAS| 600903|\n",
      "| SFO| 462953|\n",
      "| SEA| 422708|\n",
      "| BWI| 377282|\n",
      "| OAK| 348979|\n",
      "| PHL| 343033|\n",
      "| SLC| 293095|\n",
      "| TPA| 291697|\n",
      "| MCO| 291612|\n",
      "| FLL| 280020|\n",
      "| HOU| 277914|\n",
      "| DFW| 272088|\n",
      "| PHX| 264534|\n",
      "| IAH| 259946|\n",
      "| DAL| 254454|\n",
      "| MIA| 249991|\n",
      "| LGA| 239996|\n",
      "| CVG| 236890|\n",
      "+----+-------+\n",
      "only showing top 20 rows\n",
      "\n"
     ]
    }
   ],
   "source": [
    "df_arrD_most = df_new.groupBy('Dest').agg(f.sum(\"ArrDelay\").alias(\"sum\")).sort(desc(\"sum\"))\n",
    "df_arrD_most.show()"
   ]
  },
  {
   "cell_type": "code",
   "execution_count": 10,
   "metadata": {},
   "outputs": [
    {
     "data": {
      "text/plain": [
       "<matplotlib.axes._subplots.AxesSubplot at 0x7ff34f8e4a58>"
      ]
     },
     "execution_count": 10,
     "metadata": {},
     "output_type": "execute_result"
    },
    {
     "data": {
      "image/png": "[encoded data removed]",
      "text/plain": [
       "<Figure size 432x288 with 1 Axes>"
      ]
     },
     "metadata": {
      "needs_background": "light"
     },
     "output_type": "display_data"
    }
   ],
   "source": [
    "df_arrD_most.limit(5).toPandas().plot.bar(x='Dest', y= 'sum')"
   ]
  },
  {
   "cell_type": "markdown",
   "metadata": {},
   "source": [
    "### 4. Airports experience the least arrival delay"
   ]
  },
  {
   "cell_type": "code",
   "execution_count": 11,
   "metadata": {},
   "outputs": [
    {
     "name": "stdout",
     "output_type": "stream",
     "text": [
      "+----+------+\n",
      "|Dest|   sum|\n",
      "+----+------+\n",
      "| AGS|  null|\n",
      "| ACY|  null|\n",
      "| BOS|-21900|\n",
      "| SBA| -9307|\n",
      "| SBP| -4496|\n",
      "| MRY| -3564|\n",
      "| MLI| -2827|\n",
      "| LFT| -2678|\n",
      "| AVL| -1519|\n",
      "| AVP| -1131|\n",
      "| SJT| -1103|\n",
      "| BPT|  -727|\n",
      "| STX|  -669|\n",
      "| ACT|  -564|\n",
      "| TXK|  -184|\n",
      "| HLN|  -144|\n",
      "| DRO|  -101|\n",
      "| SUX|   -14|\n",
      "| ERI|    18|\n",
      "| SPS|   141|\n",
      "+----+------+\n",
      "only showing top 20 rows\n",
      "\n"
     ]
    }
   ],
   "source": [
    "df_arrD_least = df_new.groupBy('Dest').agg(f.sum(\"ArrDelay\").alias(\"sum\")).orderBy(\"sum\")\n",
    "df_arrD_least.show()"
   ]
  },
  {
   "cell_type": "code",
   "execution_count": 12,
   "metadata": {},
   "outputs": [
    {
     "data": {
      "text/plain": [
       "<matplotlib.axes._subplots.AxesSubplot at 0x7ff34f88aa58>"
      ]
     },
     "execution_count": 12,
     "metadata": {},
     "output_type": "execute_result"
    },
    {
     "data": {
      "image/png": "[encoded data removed]",
      "text/plain": [
       "<Figure size 432x288 with 1 Axes>"
      ]
     },
     "metadata": {
      "needs_background": "light"
     },
     "output_type": "display_data"
    }
   ],
   "source": [
    "df_arrD_least.limit(5).toPandas().plot.bar(x='Dest', y= 'sum')"
   ]
  },
  {
   "cell_type": "markdown",
   "metadata": {},
   "source": [
    "### 5. Flights experience the most arrival delay"
   ]
  },
  {
   "cell_type": "code",
   "execution_count": 13,
   "metadata": {},
   "outputs": [
    {
     "name": "stdout",
     "output_type": "stream",
     "text": [
      "+---------+-----+\n",
      "|FlightNum|  sum|\n",
      "+---------+-----+\n",
      "|     1854|34624|\n",
      "|      486|32972|\n",
      "|      563|32921|\n",
      "|      391|29612|\n",
      "|       61|29466|\n",
      "|      161|29249|\n",
      "|     1676|29078|\n",
      "|     1787|29018|\n",
      "|       63|28978|\n",
      "|       47|28675|\n",
      "|      881|28403|\n",
      "|     2041|27964|\n",
      "|     2233|27578|\n",
      "|     1241|27318|\n",
      "|      894|26812|\n",
      "|      153|25811|\n",
      "|       65|25648|\n",
      "|     1367|25335|\n",
      "|      289|25231|\n",
      "|     1857|25077|\n",
      "+---------+-----+\n",
      "only showing top 20 rows\n",
      "\n"
     ]
    }
   ],
   "source": [
    "df_arrD_most_f = df_new.groupBy('FlightNum').agg(f.sum(\"ArrDelay\").alias(\"sum\")).sort(desc(\"sum\"))\n",
    "df_arrD_most_f.show()"
   ]
  },
  {
   "cell_type": "code",
   "execution_count": 14,
   "metadata": {},
   "outputs": [
    {
     "data": {
      "text/plain": [
       "<matplotlib.axes._subplots.AxesSubplot at 0x7ff34f7ed6a0>"
      ]
     },
     "execution_count": 14,
     "metadata": {},
     "output_type": "execute_result"
    },
    {
     "data": {
      "image/png": "[encoded data removed]",
      "text/plain": [
       "<Figure size 432x288 with 1 Axes>"
      ]
     },
     "metadata": {
      "needs_background": "light"
     },
     "output_type": "display_data"
    }
   ],
   "source": [
    "df_arrD_most_f.limit(5).toPandas().plot.bar(x='FlightNum', y= 'sum')"
   ]
  },
  {
   "cell_type": "markdown",
   "metadata": {},
   "source": [
    "### 6. Flights experience the least arrival delay"
   ]
  },
  {
   "cell_type": "code",
   "execution_count": 15,
   "metadata": {},
   "outputs": [
    {
     "name": "stdout",
     "output_type": "stream",
     "text": [
      "+---------+------+\n",
      "|FlightNum|   sum|\n",
      "+---------+------+\n",
      "|      159|-11668|\n",
      "|     1747| -9583|\n",
      "|      821| -8848|\n",
      "|      114| -8372|\n",
      "|      174| -8343|\n",
      "|      109| -7461|\n",
      "|      135| -7060|\n",
      "|     2307| -6769|\n",
      "|     2008| -6095|\n",
      "|     1531| -6063|\n",
      "|     2063| -6015|\n",
      "|     1755| -5978|\n",
      "|     1226| -5783|\n",
      "|       18| -5623|\n",
      "|       19| -5408|\n",
      "|     1133| -5278|\n",
      "|     1769| -5273|\n",
      "|     1002| -5203|\n",
      "|     1048| -5111|\n",
      "|      950| -5084|\n",
      "+---------+------+\n",
      "only showing top 20 rows\n",
      "\n"
     ]
    }
   ],
   "source": [
    "df_arrD_least_f = df_new.groupBy('FlightNum').agg(f.sum(\"ArrDelay\").alias(\"sum\")).orderBy(\"sum\")\n",
    "df_arrD_least_f.show()"
   ]
  },
  {
   "cell_type": "code",
   "execution_count": 16,
   "metadata": {},
   "outputs": [
    {
     "data": {
      "text/plain": [
       "<matplotlib.axes._subplots.AxesSubplot at 0x7ff34f7c5668>"
      ]
     },
     "execution_count": 16,
     "metadata": {},
     "output_type": "execute_result"
    },
    {
     "data": {
      "image/png": "[encoded data removed]",
      "text/plain": [
       "<Figure size 432x288 with 1 Axes>"
      ]
     },
     "metadata": {
      "needs_background": "light"
     },
     "output_type": "display_data"
    }
   ],
   "source": [
    "df_arrD_least_f.limit(5).toPandas().plot.bar(x='FlightNum', y= 'sum')"
   ]
  },
  {
   "cell_type": "markdown",
   "metadata": {},
   "source": [
    "### 7. Flights experience the most departure delay"
   ]
  },
  {
   "cell_type": "code",
   "execution_count": 17,
   "metadata": {},
   "outputs": [
    {
     "name": "stdout",
     "output_type": "stream",
     "text": [
      "+---------+-----+\n",
      "|FlightNum|  sum|\n",
      "+---------+-----+\n",
      "|     1854|41464|\n",
      "|      486|40289|\n",
      "|       64|37977|\n",
      "|      161|37695|\n",
      "|       61|36223|\n",
      "|      536|35894|\n",
      "|     1241|35761|\n",
      "|      563|35488|\n",
      "|     1676|35196|\n",
      "|      459|35112|\n",
      "|      810|35060|\n",
      "|      743|34232|\n",
      "|       63|34042|\n",
      "|      153|33894|\n",
      "|      234|33241|\n",
      "|      881|33221|\n",
      "|      722|33102|\n",
      "|       42|32798|\n",
      "|       65|32408|\n",
      "|       47|32358|\n",
      "+---------+-----+\n",
      "only showing top 20 rows\n",
      "\n"
     ]
    }
   ],
   "source": [
    "df_delay_most_f = df_new.groupBy('FlightNum').agg(f.sum(\"DepDelay\").alias(\"sum\")).sort(desc(\"sum\"))\n",
    "df_delay_most_f.show()"
   ]
  },
  {
   "cell_type": "code",
   "execution_count": 18,
   "metadata": {},
   "outputs": [
    {
     "data": {
      "text/plain": [
       "<matplotlib.axes._subplots.AxesSubplot at 0x7ff34f748400>"
      ]
     },
     "execution_count": 18,
     "metadata": {},
     "output_type": "execute_result"
    },
    {
     "data": {
      "image/png": "[encoded data removed]",
      "text/plain": [
       "<Figure size 432x288 with 1 Axes>"
      ]
     },
     "metadata": {
      "needs_background": "light"
     },
     "output_type": "display_data"
    }
   ],
   "source": [
    "df_delay_most_f.limit(5).toPandas().plot.bar(x='FlightNum', y= 'sum')"
   ]
  },
  {
   "cell_type": "markdown",
   "metadata": {
    "scrolled": true
   },
   "source": [
    "### 8. Flights experience the least departure delay"
   ]
  },
  {
   "cell_type": "code",
   "execution_count": 19,
   "metadata": {},
   "outputs": [
    {
     "name": "stdout",
     "output_type": "stream",
     "text": [
      "+---------+-----+\n",
      "|FlightNum|  sum|\n",
      "+---------+-----+\n",
      "|     3208|-2540|\n",
      "|     3268|-2425|\n",
      "|     3338|-2125|\n",
      "|     3576|-2117|\n",
      "|     3328|-2097|\n",
      "|     3596|-2083|\n",
      "|     3316|-2078|\n",
      "|     3580|-2046|\n",
      "|     3498|-1919|\n",
      "|     3320|-1904|\n",
      "|     3236|-1890|\n",
      "|     3220|-1861|\n",
      "|     3554|-1843|\n",
      "|     3248|-1796|\n",
      "|     3566|-1775|\n",
      "|     3600|-1751|\n",
      "|     3207|-1671|\n",
      "|     2830|-1666|\n",
      "|     3674|-1655|\n",
      "|     3668|-1638|\n",
      "+---------+-----+\n",
      "only showing top 20 rows\n",
      "\n"
     ]
    }
   ],
   "source": [
    "df_delay_least_f = df_new.groupBy('FlightNum').agg(f.sum(\"DepDelay\").alias(\"sum\")).orderBy(\"sum\")\n",
    "df_delay_least_f.show()"
   ]
  },
  {
   "cell_type": "code",
   "execution_count": 20,
   "metadata": {},
   "outputs": [
    {
     "data": {
      "text/plain": [
       "<matplotlib.axes._subplots.AxesSubplot at 0x7ff34f6cb7b8>"
      ]
     },
     "execution_count": 20,
     "metadata": {},
     "output_type": "execute_result"
    },
    {
     "data": {
      "image/png": "[encoded data removed]",
      "text/plain": [
       "<Figure size 432x288 with 1 Axes>"
      ]
     },
     "metadata": {
      "needs_background": "light"
     },
     "output_type": "display_data"
    }
   ],
   "source": [
    "df_delay_least_f.limit(5).toPandas().plot.bar(x='FlightNum', y= 'sum')"
   ]
  },
  {
   "cell_type": "markdown",
   "metadata": {},
   "source": [
    "### 9. Average arrival delay per carrier"
   ]
  },
  {
   "cell_type": "code",
   "execution_count": 21,
   "metadata": {},
   "outputs": [
    {
     "name": "stdout",
     "output_type": "stream",
     "text": [
      "+-------------+------------------+\n",
      "|UniqueCarrier|               avg|\n",
      "+-------------+------------------+\n",
      "|           AA| 1.182908445915422|\n",
      "|           US|1.4699437440761107|\n",
      "|           CO|2.2972342892478936|\n",
      "|           UA|2.4330837498304536|\n",
      "|           HP| 2.478977337198147|\n",
      "|           NW|3.5336313012895664|\n",
      "|           WN| 3.890699404053452|\n",
      "|           MQ| 4.214754405699288|\n",
      "|           AS| 5.404059028695579|\n",
      "|           DL| 5.712299163508456|\n",
      "+-------------+------------------+\n",
      "\n"
     ]
    }
   ],
   "source": [
    "df_arrD_avg = df_new.groupBy('UniqueCarrier').agg(f.avg(\"ArrDelay\").alias(\"avg\")).orderBy(\"avg\")\n",
    "df_arrD_avg.show()"
   ]
  },
  {
   "cell_type": "code",
   "execution_count": 22,
   "metadata": {},
   "outputs": [
    {
     "data": {
      "text/plain": [
       "<matplotlib.axes._subplots.AxesSubplot at 0x7ff34f62e518>"
      ]
     },
     "execution_count": 22,
     "metadata": {},
     "output_type": "execute_result"
    },
    {
     "data": {
      "image/png": "[encoded data removed]",
      "text/plain": [
       "<Figure size 432x288 with 1 Axes>"
      ]
     },
     "metadata": {
      "needs_background": "light"
     },
     "output_type": "display_data"
    }
   ],
   "source": [
    "df_arrD_avg.limit(5).toPandas().plot.bar(x='UniqueCarrier', y= 'avg')"
   ]
  },
  {
   "cell_type": "markdown",
   "metadata": {},
   "source": [
    "### 10. Average depature delay per carrier"
   ]
  },
  {
   "cell_type": "code",
   "execution_count": 23,
   "metadata": {},
   "outputs": [
    {
     "name": "stdout",
     "output_type": "stream",
     "text": [
      "+-------------+------------------+\n",
      "|UniqueCarrier|               avg|\n",
      "+-------------+------------------+\n",
      "|           CO|2.5368067195762296|\n",
      "|           US| 3.676496743288962|\n",
      "|           AA| 4.473949298662345|\n",
      "|           UA| 4.664783588934704|\n",
      "|           NW|  4.82061634414722|\n",
      "|           MQ| 5.546236367849778|\n",
      "|           DL|5.5655362269371285|\n",
      "|           HP| 6.269212934339063|\n",
      "|           AS|  7.35249066762614|\n",
      "|           WN|  8.92502960886713|\n",
      "+-------------+------------------+\n",
      "\n"
     ]
    }
   ],
   "source": [
    "df_delay_avg = df_new.groupBy('UniqueCarrier').agg(f.avg(\"DepDelay\").alias(\"avg\")).orderBy(\"avg\")\n",
    "df_delay_avg.show()"
   ]
  },
  {
   "cell_type": "code",
   "execution_count": 24,
   "metadata": {},
   "outputs": [
    {
     "data": {
      "text/plain": [
       "<matplotlib.axes._subplots.AxesSubplot at 0x7ff34f593c18>"
      ]
     },
     "execution_count": 24,
     "metadata": {},
     "output_type": "execute_result"
    },
    {
     "data": {
      "image/png": "[encoded data removed]",
      "text/plain": [
       "<Figure size 432x288 with 1 Axes>"
      ]
     },
     "metadata": {
      "needs_background": "light"
     },
     "output_type": "display_data"
    }
   ],
   "source": [
    "df_delay_avg.limit(5).toPandas().plot.bar(x='UniqueCarrier', y= 'avg')"
   ]
  },
  {
   "cell_type": "code",
   "execution_count": null,
   "metadata": {},
   "outputs": [],
   "source": []
  }
 ],
 "metadata": {
  "kernelspec": {
   "display_name": "Python 3",
   "language": "python",
   "name": "python3"
  },
  "language_info": {
   "codemirror_mode": {
    "name": "ipython",
    "version": 3
   },
   "file_extension": ".py",
   "mimetype": "text/x-python",
   "name": "python",
   "nbconvert_exporter": "python",
   "pygments_lexer": "ipython3",
   "version": "3.6.9"
  }
 },
 "nbformat": 4,
 "nbformat_minor": 2
}
