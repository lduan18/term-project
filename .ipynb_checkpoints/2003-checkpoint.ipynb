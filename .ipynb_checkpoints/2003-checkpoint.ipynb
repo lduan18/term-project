{
 "cells": [
  {
   "cell_type": "markdown",
   "metadata": {},
   "source": [
    "# Use Apache spark to answer a few questions for the airline perform data\n"
   ]
  },
  {
   "cell_type": "markdown",
   "metadata": {},
   "source": [
    "## Airline Performance data - 2003.csv"
   ]
  },
  {
   "cell_type": "markdown",
   "metadata": {},
   "source": [
    "import packages"
   ]
  },
  {
   "cell_type": "code",
   "execution_count": 1,
   "metadata": {},
   "outputs": [],
   "source": [
    "from pyspark.sql import SparkSession\n",
    "from pyspark.sql.types import *\n",
    "import pyspark.sql.functions as f\n",
    "from pyspark.sql.functions import desc\n",
    "import pandas as pd"
   ]
  },
  {
   "cell_type": "markdown",
   "metadata": {},
   "source": [
    "Loading data from HDFS"
   ]
  },
  {
   "cell_type": "code",
   "execution_count": 2,
   "metadata": {},
   "outputs": [],
   "source": [
    "data = '/user/student/airline/2003.csv'\n",
    "df = spark.read.csv(data, header = True)"
   ]
  },
  {
   "cell_type": "code",
   "execution_count": 3,
   "metadata": {},
   "outputs": [
    {
     "data": {
      "text/plain": [
       "[Row(Year='2003', Month='1', DayofMonth='29', DayOfWeek='3', DepTime='1651', CRSDepTime='1655', ArrTime='1912', CRSArrTime='1913', UniqueCarrier='UA', FlightNum='1017', TailNum='N202UA', ActualElapsedTime='141', CRSElapsedTime='138', AirTime='119', ArrDelay='-1', DepDelay='-4', Origin='ORD', Dest='MSY', Distance='837', TaxiIn='5', TaxiOut='17', Cancelled='0', CancellationCode='NA', Diverted='0', CarrierDelay='NA', WeatherDelay='NA', NASDelay='NA', SecurityDelay='NA', LateAircraftDelay='NA'),\n",
       " Row(Year='2003', Month='1', DayofMonth='30', DayOfWeek='4', DepTime='1654', CRSDepTime='1655', ArrTime='1910', CRSArrTime='1913', UniqueCarrier='UA', FlightNum='1017', TailNum='N311UA', ActualElapsedTime='136', CRSElapsedTime='138', AirTime='108', ArrDelay='-3', DepDelay='-1', Origin='ORD', Dest='MSY', Distance='837', TaxiIn='2', TaxiOut='26', Cancelled='0', CancellationCode='NA', Diverted='0', CarrierDelay='NA', WeatherDelay='NA', NASDelay='NA', SecurityDelay='NA', LateAircraftDelay='NA'),\n",
       " Row(Year='2003', Month='1', DayofMonth='31', DayOfWeek='5', DepTime='1724', CRSDepTime='1655', ArrTime='1936', CRSArrTime='1913', UniqueCarrier='UA', FlightNum='1017', TailNum='N317UA', ActualElapsedTime='132', CRSElapsedTime='138', AirTime='110', ArrDelay='23', DepDelay='29', Origin='ORD', Dest='MSY', Distance='837', TaxiIn='5', TaxiOut='17', Cancelled='0', CancellationCode='NA', Diverted='0', CarrierDelay='NA', WeatherDelay='NA', NASDelay='NA', SecurityDelay='NA', LateAircraftDelay='NA')]"
      ]
     },
     "execution_count": 3,
     "metadata": {},
     "output_type": "execute_result"
    }
   ],
   "source": [
    "df.take(3)"
   ]
  },
  {
   "cell_type": "markdown",
   "metadata": {},
   "source": [
    "Change departure and arrival delay data type from string to integer"
   ]
  },
  {
   "cell_type": "code",
   "execution_count": 4,
   "metadata": {},
   "outputs": [
    {
     "name": "stdout",
     "output_type": "stream",
     "text": [
      "root\n",
      " |-- Year: string (nullable = true)\n",
      " |-- Month: string (nullable = true)\n",
      " |-- DayofMonth: string (nullable = true)\n",
      " |-- DayOfWeek: string (nullable = true)\n",
      " |-- DepTime: string (nullable = true)\n",
      " |-- CRSDepTime: string (nullable = true)\n",
      " |-- ArrTime: string (nullable = true)\n",
      " |-- CRSArrTime: string (nullable = true)\n",
      " |-- UniqueCarrier: string (nullable = true)\n",
      " |-- FlightNum: string (nullable = true)\n",
      " |-- TailNum: string (nullable = true)\n",
      " |-- ActualElapsedTime: string (nullable = true)\n",
      " |-- CRSElapsedTime: string (nullable = true)\n",
      " |-- AirTime: string (nullable = true)\n",
      " |-- ArrDelay: string (nullable = true)\n",
      " |-- DepDelay: string (nullable = true)\n",
      " |-- Origin: string (nullable = true)\n",
      " |-- Dest: string (nullable = true)\n",
      " |-- Distance: string (nullable = true)\n",
      " |-- TaxiIn: string (nullable = true)\n",
      " |-- TaxiOut: string (nullable = true)\n",
      " |-- Cancelled: string (nullable = true)\n",
      " |-- CancellationCode: string (nullable = true)\n",
      " |-- Diverted: string (nullable = true)\n",
      " |-- CarrierDelay: string (nullable = true)\n",
      " |-- WeatherDelay: string (nullable = true)\n",
      " |-- NASDelay: string (nullable = true)\n",
      " |-- SecurityDelay: string (nullable = true)\n",
      " |-- LateAircraftDelay: string (nullable = true)\n",
      "\n",
      "root\n",
      " |-- Year: string (nullable = true)\n",
      " |-- Month: string (nullable = true)\n",
      " |-- DayofMonth: string (nullable = true)\n",
      " |-- DayOfWeek: string (nullable = true)\n",
      " |-- DepTime: string (nullable = true)\n",
      " |-- CRSDepTime: string (nullable = true)\n",
      " |-- ArrTime: string (nullable = true)\n",
      " |-- CRSArrTime: string (nullable = true)\n",
      " |-- UniqueCarrier: string (nullable = true)\n",
      " |-- FlightNum: string (nullable = true)\n",
      " |-- TailNum: string (nullable = true)\n",
      " |-- ActualElapsedTime: string (nullable = true)\n",
      " |-- CRSElapsedTime: string (nullable = true)\n",
      " |-- AirTime: string (nullable = true)\n",
      " |-- ArrDelay: integer (nullable = true)\n",
      " |-- DepDelay: integer (nullable = true)\n",
      " |-- Origin: string (nullable = true)\n",
      " |-- Dest: string (nullable = true)\n",
      " |-- Distance: string (nullable = true)\n",
      " |-- TaxiIn: string (nullable = true)\n",
      " |-- TaxiOut: string (nullable = true)\n",
      " |-- Cancelled: string (nullable = true)\n",
      " |-- CancellationCode: string (nullable = true)\n",
      " |-- Diverted: string (nullable = true)\n",
      " |-- CarrierDelay: string (nullable = true)\n",
      " |-- WeatherDelay: string (nullable = true)\n",
      " |-- NASDelay: string (nullable = true)\n",
      " |-- SecurityDelay: string (nullable = true)\n",
      " |-- LateAircraftDelay: string (nullable = true)\n",
      "\n"
     ]
    }
   ],
   "source": [
    "df.printSchema()\n",
    "df_1 = df.withColumn(\"DepDelay\", df[\"DepDelay\"].cast(IntegerType()))\n",
    "df_new = df_1.withColumn(\"ArrDelay\", df_1[\"ArrDelay\"].cast(IntegerType()))\n",
    "df_new.printSchema()"
   ]
  },
  {
   "cell_type": "markdown",
   "metadata": {},
   "source": [
    "### 1. Airports experience the most departure delay"
   ]
  },
  {
   "cell_type": "code",
   "execution_count": 5,
   "metadata": {},
   "outputs": [
    {
     "name": "stdout",
     "output_type": "stream",
     "text": [
      "+------+-------+\n",
      "|Origin|    sum|\n",
      "+------+-------+\n",
      "|   ORD|3152372|\n",
      "|   ATL|2957087|\n",
      "|   DFW|1887588|\n",
      "|   PHX|1101015|\n",
      "|   EWR| 922751|\n",
      "|   LAS| 910369|\n",
      "|   PHL| 854496|\n",
      "|   LAX| 833757|\n",
      "|   IAD| 692866|\n",
      "|   BWI| 676093|\n",
      "|   MDW| 672318|\n",
      "|   DTW| 648067|\n",
      "|   BOS| 611624|\n",
      "|   CLT| 582522|\n",
      "|   IAH| 571165|\n",
      "|   DEN| 566347|\n",
      "|   SLC| 550650|\n",
      "|   CVG| 535842|\n",
      "|   SEA| 512038|\n",
      "|   JFK| 495817|\n",
      "+------+-------+\n",
      "only showing top 20 rows\n",
      "\n"
     ]
    }
   ],
   "source": [
    "df_delay_most = df_new.groupBy('Origin').agg(f.sum(\"DepDelay\").alias(\"sum\")).sort(desc(\"sum\"))\n",
    "df_delay_most.show()"
   ]
  },
  {
   "cell_type": "code",
   "execution_count": 6,
   "metadata": {},
   "outputs": [
    {
     "data": {
      "text/plain": [
       "<matplotlib.axes._subplots.AxesSubplot at 0x7f752757f8d0>"
      ]
     },
     "execution_count": 6,
     "metadata": {},
     "output_type": "execute_result"
    },
    {
     "data": {
      "image/png": "[encoded data removed]",
      "text/plain": [
       "<Figure size 432x288 with 1 Axes>"
      ]
     },
     "metadata": {
      "needs_background": "light"
     },
     "output_type": "display_data"
    }
   ],
   "source": [
    "df_delay_most.limit(5).toPandas().plot.bar(x='Origin', y= 'sum')"
   ]
  },
  {
   "cell_type": "markdown",
   "metadata": {},
   "source": [
    "### 2. Airports experience the least departure delay"
   ]
  },
  {
   "cell_type": "code",
   "execution_count": 7,
   "metadata": {},
   "outputs": [
    {
     "name": "stdout",
     "output_type": "stream",
     "text": [
      "+------+-----+\n",
      "|Origin|  sum|\n",
      "+------+-----+\n",
      "|   LAW|-6589|\n",
      "|   GGG|-6310|\n",
      "|   TYR|-6218|\n",
      "|   SPS|-4335|\n",
      "|   SJT|-3963|\n",
      "|   FSM|-2608|\n",
      "|   MOT|-1803|\n",
      "|   TXK|-1761|\n",
      "|   ACT|-1656|\n",
      "|   CLL|-1612|\n",
      "|   EFD|-1492|\n",
      "|   BIS| -921|\n",
      "|   ITO| -797|\n",
      "|   BPT| -539|\n",
      "|   RST| -430|\n",
      "|   GUC| -379|\n",
      "|   LNY| -332|\n",
      "|   STX| -316|\n",
      "|   MKK| -198|\n",
      "|   ERI| -134|\n",
      "+------+-----+\n",
      "only showing top 20 rows\n",
      "\n"
     ]
    }
   ],
   "source": [
    "df_delay_least = df_new.groupBy('Origin').agg(f.sum(\"DepDelay\").alias(\"sum\")).orderBy(\"sum\")\n",
    "df_delay_least.show()"
   ]
  },
  {
   "cell_type": "code",
   "execution_count": 8,
   "metadata": {},
   "outputs": [
    {
     "data": {
      "text/plain": [
       "<matplotlib.axes._subplots.AxesSubplot at 0x7f75268de908>"
      ]
     },
     "execution_count": 8,
     "metadata": {},
     "output_type": "execute_result"
    },
    {
     "data": {
      "image/png": "[encoded data removed]",
      "text/plain": [
       "<Figure size 432x288 with 1 Axes>"
      ]
     },
     "metadata": {
      "needs_background": "light"
     },
     "output_type": "display_data"
    }
   ],
   "source": [
    "df_delay_least.limit(5).toPandas().plot.bar(x='Origin', y= 'sum')"
   ]
  },
  {
   "cell_type": "markdown",
   "metadata": {},
   "source": [
    "### 3. Airports experience the most arrival delay"
   ]
  },
  {
   "cell_type": "code",
   "execution_count": 9,
   "metadata": {},
   "outputs": [
    {
     "name": "stdout",
     "output_type": "stream",
     "text": [
      "+----+-------+\n",
      "|Dest|    sum|\n",
      "+----+-------+\n",
      "| ORD|2590001|\n",
      "| ATL|1919185|\n",
      "| EWR|1406340|\n",
      "| LGA| 645201|\n",
      "| PHL| 548238|\n",
      "| SFO| 480517|\n",
      "| IAH| 456282|\n",
      "| CLE| 431015|\n",
      "| LAS| 390763|\n",
      "| BWI| 384561|\n",
      "| DFW| 336498|\n",
      "| MCO| 335978|\n",
      "| CVG| 325493|\n",
      "| FLL| 295221|\n",
      "| MIA| 290052|\n",
      "| BOS| 286441|\n",
      "| MDW| 283546|\n",
      "| PHX| 268302|\n",
      "| IAD| 266811|\n",
      "| RDU| 266118|\n",
      "+----+-------+\n",
      "only showing top 20 rows\n",
      "\n"
     ]
    }
   ],
   "source": [
    "df_arrD_most = df_new.groupBy('Dest').agg(f.sum(\"ArrDelay\").alias(\"sum\")).sort(desc(\"sum\"))\n",
    "df_arrD_most.show()"
   ]
  },
  {
   "cell_type": "code",
   "execution_count": 10,
   "metadata": {},
   "outputs": [
    {
     "data": {
      "text/plain": [
       "<matplotlib.axes._subplots.AxesSubplot at 0x7f752619a0f0>"
      ]
     },
     "execution_count": 10,
     "metadata": {},
     "output_type": "execute_result"
    },
    {
     "data": {
      "image/png": "[encoded data removed]",
      "text/plain": [
       "<Figure size 432x288 with 1 Axes>"
      ]
     },
     "metadata": {
      "needs_background": "light"
     },
     "output_type": "display_data"
    }
   ],
   "source": [
    "df_arrD_most.limit(5).toPandas().plot.bar(x='Dest', y= 'sum')"
   ]
  },
  {
   "cell_type": "markdown",
   "metadata": {},
   "source": [
    "### 4. Airports experience the least arrival delay"
   ]
  },
  {
   "cell_type": "code",
   "execution_count": 11,
   "metadata": {},
   "outputs": [
    {
     "name": "stdout",
     "output_type": "stream",
     "text": [
      "+----+-----+\n",
      "|Dest|  sum|\n",
      "+----+-----+\n",
      "| PUB| null|\n",
      "| CYS| null|\n",
      "| SUX| null|\n",
      "| BFF| null|\n",
      "| FMN| null|\n",
      "| SBP|-7279|\n",
      "| SMX|-5267|\n",
      "| IYK|-4538|\n",
      "| OXR|-4130|\n",
      "| MRY|-3656|\n",
      "| LCH|-3237|\n",
      "| BFL|-3049|\n",
      "| CLD|-2834|\n",
      "| SPS|-2248|\n",
      "| LIH|-2005|\n",
      "| MOD|-1686|\n",
      "| CEC|-1675|\n",
      "| WYS|-1655|\n",
      "| HLN|-1549|\n",
      "| GGG|-1466|\n",
      "+----+-----+\n",
      "only showing top 20 rows\n",
      "\n"
     ]
    }
   ],
   "source": [
    "df_arrD_least = df_new.groupBy('Dest').agg(f.sum(\"ArrDelay\").alias(\"sum\")).orderBy(\"sum\")\n",
    "df_arrD_least.show()"
   ]
  },
  {
   "cell_type": "code",
   "execution_count": 13,
   "metadata": {},
   "outputs": [
    {
     "data": {
      "text/plain": [
       "<matplotlib.axes._subplots.AxesSubplot at 0x7f75261724a8>"
      ]
     },
     "execution_count": 13,
     "metadata": {},
     "output_type": "execute_result"
    },
    {
     "data": {
      "image/png": "[encoded data removed]",
      "text/plain": [
       "<Figure size 432x288 with 1 Axes>"
      ]
     },
     "metadata": {
      "needs_background": "light"
     },
     "output_type": "display_data"
    }
   ],
   "source": [
    "df_arrD_least.limit(10).toPandas().plot.bar(x='Dest', y= 'sum')"
   ]
  },
  {
   "cell_type": "markdown",
   "metadata": {},
   "source": [
    "### 5. Flights experience the most arrival delay"
   ]
  },
  {
   "cell_type": "code",
   "execution_count": 14,
   "metadata": {},
   "outputs": [
    {
     "name": "stdout",
     "output_type": "stream",
     "text": [
      "+---------+-----+\n",
      "|FlightNum|  sum|\n",
      "+---------+-----+\n",
      "|     3829|52187|\n",
      "|     6197|35603|\n",
      "|      775|34144|\n",
      "|       62|33474|\n",
      "|     3738|31280|\n",
      "|      625|30434|\n",
      "|      216|29474|\n",
      "|     1854|28973|\n",
      "|     1037|28385|\n",
      "|      576|28011|\n",
      "|      438|27921|\n",
      "|      441|27194|\n",
      "|      159|27102|\n",
      "|      352|26736|\n",
      "|      647|26069|\n",
      "|      780|25853|\n",
      "|      126|25842|\n",
      "|      861|25813|\n",
      "|      161|24880|\n",
      "|     2020|24534|\n",
      "+---------+-----+\n",
      "only showing top 20 rows\n",
      "\n"
     ]
    }
   ],
   "source": [
    "df_arrD_most_f = df_new.groupBy('FlightNum').agg(f.sum(\"ArrDelay\").alias(\"sum\")).sort(desc(\"sum\"))\n",
    "df_arrD_most_f.show()"
   ]
  },
  {
   "cell_type": "code",
   "execution_count": 15,
   "metadata": {},
   "outputs": [
    {
     "data": {
      "text/plain": [
       "<matplotlib.axes._subplots.AxesSubplot at 0x7f75261720b8>"
      ]
     },
     "execution_count": 15,
     "metadata": {},
     "output_type": "execute_result"
    },
    {
     "data": {
      "image/png": "[encoded data removed]",
      "text/plain": [
       "<Figure size 432x288 with 1 Axes>"
      ]
     },
     "metadata": {
      "needs_background": "light"
     },
     "output_type": "display_data"
    }
   ],
   "source": [
    "df_arrD_most_f.limit(5).toPandas().plot.bar(x='FlightNum', y= 'sum')"
   ]
  },
  {
   "cell_type": "markdown",
   "metadata": {},
   "source": [
    "### 6. Flights experience the least arrival delay"
   ]
  },
  {
   "cell_type": "code",
   "execution_count": 16,
   "metadata": {},
   "outputs": [
    {
     "name": "stdout",
     "output_type": "stream",
     "text": [
      "+---------+-----+\n",
      "|FlightNum|  sum|\n",
      "+---------+-----+\n",
      "|     9293| null|\n",
      "|     6944| null|\n",
      "|     6664| null|\n",
      "|      135|-9197|\n",
      "|     2961|-6633|\n",
      "|      114|-6369|\n",
      "|     1783|-6283|\n",
      "|     1226|-6254|\n",
      "|      403|-6202|\n",
      "|      442|-6190|\n",
      "|     2129|-6185|\n",
      "|     1284|-6083|\n",
      "|      971|-5881|\n",
      "|     1323|-5704|\n",
      "|     2695|-5638|\n",
      "|     2670|-5627|\n",
      "|     6243|-5454|\n",
      "|     6611|-5262|\n",
      "|     2864|-5101|\n",
      "|     1131|-5081|\n",
      "+---------+-----+\n",
      "only showing top 20 rows\n",
      "\n"
     ]
    }
   ],
   "source": [
    "df_arrD_least_f = df_new.groupBy('FlightNum').agg(f.sum(\"ArrDelay\").alias(\"sum\")).orderBy(\"sum\")\n",
    "df_arrD_least_f.show()"
   ]
  },
  {
   "cell_type": "code",
   "execution_count": 17,
   "metadata": {},
   "outputs": [
    {
     "data": {
      "text/plain": [
       "<matplotlib.axes._subplots.AxesSubplot at 0x7f7525fef940>"
      ]
     },
     "execution_count": 17,
     "metadata": {},
     "output_type": "execute_result"
    },
    {
     "data": {
      "image/png": "[encoded data removed]",
      "text/plain": [
       "<Figure size 432x288 with 1 Axes>"
      ]
     },
     "metadata": {
      "needs_background": "light"
     },
     "output_type": "display_data"
    }
   ],
   "source": [
    "df_arrD_least_f.limit(5).toPandas().plot.bar(x='FlightNum', y= 'sum')"
   ]
  },
  {
   "cell_type": "markdown",
   "metadata": {},
   "source": [
    "### 7. Flights experience the most departure delay"
   ]
  },
  {
   "cell_type": "code",
   "execution_count": 18,
   "metadata": {},
   "outputs": [
    {
     "name": "stdout",
     "output_type": "stream",
     "text": [
      "+---------+-----+\n",
      "|FlightNum|  sum|\n",
      "+---------+-----+\n",
      "|       64|35096|\n",
      "|       62|34383|\n",
      "|      775|34081|\n",
      "|      161|33688|\n",
      "|      216|33635|\n",
      "|       85|33293|\n",
      "|        3|32031|\n",
      "|       46|31294|\n",
      "|      639|31252|\n",
      "|      647|31108|\n",
      "|       61|30821|\n",
      "|      776|30446|\n",
      "|      576|30401|\n",
      "|      217|30392|\n",
      "|      159|30307|\n",
      "|       69|30152|\n",
      "|      438|29619|\n",
      "|       45|29347|\n",
      "|     1037|29339|\n",
      "|     2020|28930|\n",
      "+---------+-----+\n",
      "only showing top 20 rows\n",
      "\n"
     ]
    }
   ],
   "source": [
    "df_delay_most_f = df_new.groupBy('FlightNum').agg(f.sum(\"DepDelay\").alias(\"sum\")).sort(desc(\"sum\"))\n",
    "df_delay_most_f.show()"
   ]
  },
  {
   "cell_type": "code",
   "execution_count": 19,
   "metadata": {},
   "outputs": [
    {
     "data": {
      "text/plain": [
       "<matplotlib.axes._subplots.AxesSubplot at 0x7f7525f54b38>"
      ]
     },
     "execution_count": 19,
     "metadata": {},
     "output_type": "execute_result"
    },
    {
     "data": {
      "image/png": "[encoded data removed]",
      "text/plain": [
       "<Figure size 432x288 with 1 Axes>"
      ]
     },
     "metadata": {
      "needs_background": "light"
     },
     "output_type": "display_data"
    }
   ],
   "source": [
    "df_delay_most_f.limit(5).toPandas().plot.bar(x='FlightNum', y= 'sum')"
   ]
  },
  {
   "cell_type": "markdown",
   "metadata": {
    "scrolled": true
   },
   "source": [
    "### 8. Flights experience the least departure delay"
   ]
  },
  {
   "cell_type": "code",
   "execution_count": 20,
   "metadata": {},
   "outputs": [
    {
     "name": "stdout",
     "output_type": "stream",
     "text": [
      "+---------+-----+\n",
      "|FlightNum|  sum|\n",
      "+---------+-----+\n",
      "|     9293| null|\n",
      "|     6664| null|\n",
      "|     3574|-1714|\n",
      "|     3056|-1661|\n",
      "|     3325|-1610|\n",
      "|     3250|-1577|\n",
      "|     3236|-1529|\n",
      "|     3412|-1435|\n",
      "|     3350|-1425|\n",
      "|     7360|-1417|\n",
      "|     2868|-1379|\n",
      "|     3272|-1368|\n",
      "|     3594|-1341|\n",
      "|      971|-1338|\n",
      "|     3286|-1323|\n",
      "|     3233|-1290|\n",
      "|     3532|-1245|\n",
      "|     3033|-1213|\n",
      "|     3494|-1210|\n",
      "|     3312|-1202|\n",
      "+---------+-----+\n",
      "only showing top 20 rows\n",
      "\n"
     ]
    }
   ],
   "source": [
    "df_delay_least_f = df_new.groupBy('FlightNum').agg(f.sum(\"DepDelay\").alias(\"sum\")).orderBy(\"sum\")\n",
    "df_delay_least_f.show()"
   ]
  },
  {
   "cell_type": "code",
   "execution_count": 21,
   "metadata": {},
   "outputs": [
    {
     "data": {
      "text/plain": [
       "<matplotlib.axes._subplots.AxesSubplot at 0x7f7525f1cef0>"
      ]
     },
     "execution_count": 21,
     "metadata": {},
     "output_type": "execute_result"
    },
    {
     "data": {
      "image/png": "[encoded data removed]",
      "text/plain": [
       "<Figure size 432x288 with 1 Axes>"
      ]
     },
     "metadata": {
      "needs_background": "light"
     },
     "output_type": "display_data"
    }
   ],
   "source": [
    "df_delay_least_f.limit(5).toPandas().plot.bar(x='FlightNum', y= 'sum')"
   ]
  },
  {
   "cell_type": "markdown",
   "metadata": {},
   "source": [
    "### 9. Average arrival delay per carrier"
   ]
  },
  {
   "cell_type": "code",
   "execution_count": 22,
   "metadata": {},
   "outputs": [
    {
     "name": "stdout",
     "output_type": "stream",
     "text": [
      "+-------------+--------------------+\n",
      "|UniqueCarrier|                 avg|\n",
      "+-------------+--------------------+\n",
      "|           HA|-0.14296714579055442|\n",
      "|           B6|   0.986033686986753|\n",
      "|           NW|  1.9632481097925139|\n",
      "|           WN|  2.0638629859031217|\n",
      "|           OO|  2.2876037171402035|\n",
      "|           HP|   3.061532792925571|\n",
      "|           UA|   3.113908238982237|\n",
      "|           AS|  3.1776754102105302|\n",
      "|           AA|    3.20733799370944|\n",
      "|           CO|   3.782939738463129|\n",
      "|           DL|  3.8552977159126085|\n",
      "|           US|   4.223097968334864|\n",
      "|           MQ|   4.239333625771869|\n",
      "|           TZ|   4.959598623013258|\n",
      "|           XE|   5.228967480333107|\n",
      "|           DH|   6.533820220706404|\n",
      "|           EV|   6.659896536212326|\n",
      "|           FL|   8.366069865632243|\n",
      "+-------------+--------------------+\n",
      "\n"
     ]
    }
   ],
   "source": [
    "df_arrD_avg = df_new.groupBy('UniqueCarrier').agg(f.avg(\"ArrDelay\").alias(\"avg\")).orderBy(\"avg\")\n",
    "df_arrD_avg.show()"
   ]
  },
  {
   "cell_type": "code",
   "execution_count": 23,
   "metadata": {},
   "outputs": [
    {
     "data": {
      "text/plain": [
       "<matplotlib.axes._subplots.AxesSubplot at 0x7f7525eb67f0>"
      ]
     },
     "execution_count": 23,
     "metadata": {},
     "output_type": "execute_result"
    },
    {
     "data": {
      "image/png": "[encoded data removed]",
      "text/plain": [
       "<Figure size 432x288 with 1 Axes>"
      ]
     },
     "metadata": {
      "needs_background": "light"
     },
     "output_type": "display_data"
    }
   ],
   "source": [
    "df_arrD_avg.limit(5).toPandas().plot.bar(x='UniqueCarrier', y= 'avg')"
   ]
  },
  {
   "cell_type": "markdown",
   "metadata": {},
   "source": [
    "### 10. Average depature delay per carrier"
   ]
  },
  {
   "cell_type": "code",
   "execution_count": 24,
   "metadata": {},
   "outputs": [
    {
     "name": "stdout",
     "output_type": "stream",
     "text": [
      "+-------------+------------------+\n",
      "|UniqueCarrier|               avg|\n",
      "+-------------+------------------+\n",
      "|           HA|1.0343854246856556|\n",
      "|           NW|2.1861469315236306|\n",
      "|           CO| 3.900224032383165|\n",
      "|           XE| 4.138393896770467|\n",
      "|           US|  4.17614485278527|\n",
      "|           DL| 4.549610356232617|\n",
      "|           UA| 4.669889487359629|\n",
      "|           AA| 4.674403271720612|\n",
      "|           TZ| 4.788659416577627|\n",
      "|           MQ| 5.028931816814106|\n",
      "|           OO| 5.445892902895209|\n",
      "|           B6|  5.65661821879299|\n",
      "|           AS| 5.798805902182644|\n",
      "|           HP| 5.823276597559935|\n",
      "|           WN| 6.702967177039947|\n",
      "|           FL| 6.906482814531121|\n",
      "|           EV|  8.88576272328195|\n",
      "|           DH| 9.403595306998161|\n",
      "+-------------+------------------+\n",
      "\n"
     ]
    }
   ],
   "source": [
    "df_delay_avg = df_new.groupBy('UniqueCarrier').agg(f.avg(\"DepDelay\").alias(\"avg\")).orderBy(\"avg\")\n",
    "df_delay_avg.show()"
   ]
  },
  {
   "cell_type": "code",
   "execution_count": 25,
   "metadata": {},
   "outputs": [
    {
     "data": {
      "text/plain": [
       "<matplotlib.axes._subplots.AxesSubplot at 0x7f7525e1a048>"
      ]
     },
     "execution_count": 25,
     "metadata": {},
     "output_type": "execute_result"
    },
    {
     "data": {
      "image/png": "[encoded data removed]",
      "text/plain": [
       "<Figure size 432x288 with 1 Axes>"
      ]
     },
     "metadata": {
      "needs_background": "light"
     },
     "output_type": "display_data"
    }
   ],
   "source": [
    "df_delay_avg.limit(5).toPandas().plot.bar(x='UniqueCarrier', y= 'avg')"
   ]
  },
  {
   "cell_type": "code",
   "execution_count": null,
   "metadata": {},
   "outputs": [],
   "source": []
  }
 ],
 "metadata": {
  "kernelspec": {
   "display_name": "Python 3",
   "language": "python",
   "name": "python3"
  },
  "language_info": {
   "codemirror_mode": {
    "name": "ipython",
    "version": 3
   },
   "file_extension": ".py",
   "mimetype": "text/x-python",
   "name": "python",
   "nbconvert_exporter": "python",
   "pygments_lexer": "ipython3",
   "version": "3.6.9"
  }
 },
 "nbformat": 4,
 "nbformat_minor": 2
}
