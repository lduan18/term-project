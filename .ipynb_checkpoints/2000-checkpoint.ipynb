{
 "cells": [
  {
   "cell_type": "markdown",
   "metadata": {},
   "source": [
    "# Use Apache spark to answer a few questions for the airline perform data\n"
   ]
  },
  {
   "cell_type": "markdown",
   "metadata": {},
   "source": [
    "## Airline Performance data - 2000.csv"
   ]
  },
  {
   "cell_type": "markdown",
   "metadata": {},
   "source": [
    "import packages"
   ]
  },
  {
   "cell_type": "code",
   "execution_count": 1,
   "metadata": {},
   "outputs": [],
   "source": [
    "from pyspark.sql import SparkSession\n",
    "from pyspark.sql.types import *\n",
    "import pyspark.sql.functions as f\n",
    "from pyspark.sql.functions import desc\n",
    "import pandas as pd"
   ]
  },
  {
   "cell_type": "markdown",
   "metadata": {},
   "source": [
    "Loading data from HDFS"
   ]
  },
  {
   "cell_type": "code",
   "execution_count": 2,
   "metadata": {},
   "outputs": [],
   "source": [
    "data = '/user/student/airline/2000.csv'\n",
    "df = spark.read.csv(data, header = True)"
   ]
  },
  {
   "cell_type": "code",
   "execution_count": 3,
   "metadata": {},
   "outputs": [
    {
     "data": {
      "text/plain": [
       "[Row(Year='2000', Month='1', DayofMonth='28', DayOfWeek='5', DepTime='1647', CRSDepTime='1647', ArrTime='1906', CRSArrTime='1859', UniqueCarrier='HP', FlightNum='154', TailNum='N808AW', ActualElapsedTime='259', CRSElapsedTime='252', AirTime='233', ArrDelay='7', DepDelay='0', Origin='ATL', Dest='PHX', Distance='1587', TaxiIn='15', TaxiOut='11', Cancelled='0', CancellationCode='NA', Diverted='0', CarrierDelay='NA', WeatherDelay='NA', NASDelay='NA', SecurityDelay='NA', LateAircraftDelay='NA'),\n",
       " Row(Year='2000', Month='1', DayofMonth='29', DayOfWeek='6', DepTime='1648', CRSDepTime='1647', ArrTime='1939', CRSArrTime='1859', UniqueCarrier='HP', FlightNum='154', TailNum='N653AW', ActualElapsedTime='291', CRSElapsedTime='252', AirTime='239', ArrDelay='40', DepDelay='1', Origin='ATL', Dest='PHX', Distance='1587', TaxiIn='5', TaxiOut='47', Cancelled='0', CancellationCode='NA', Diverted='0', CarrierDelay='NA', WeatherDelay='NA', NASDelay='NA', SecurityDelay='NA', LateAircraftDelay='NA'),\n",
       " Row(Year='2000', Month='1', DayofMonth='30', DayOfWeek='7', DepTime='NA', CRSDepTime='1647', ArrTime='NA', CRSArrTime='1859', UniqueCarrier='HP', FlightNum='154', TailNum='N801AW', ActualElapsedTime='NA', CRSElapsedTime='252', AirTime='NA', ArrDelay='NA', DepDelay='NA', Origin='ATL', Dest='PHX', Distance='1587', TaxiIn='0', TaxiOut='0', Cancelled='1', CancellationCode='NA', Diverted='0', CarrierDelay='NA', WeatherDelay='NA', NASDelay='NA', SecurityDelay='NA', LateAircraftDelay='NA')]"
      ]
     },
     "execution_count": 3,
     "metadata": {},
     "output_type": "execute_result"
    }
   ],
   "source": [
    "df.take(3)"
   ]
  },
  {
   "cell_type": "markdown",
   "metadata": {},
   "source": [
    "Change departure and arrival delay data type from string to integer"
   ]
  },
  {
   "cell_type": "code",
   "execution_count": 4,
   "metadata": {},
   "outputs": [
    {
     "name": "stdout",
     "output_type": "stream",
     "text": [
      "root\n",
      " |-- Year: string (nullable = true)\n",
      " |-- Month: string (nullable = true)\n",
      " |-- DayofMonth: string (nullable = true)\n",
      " |-- DayOfWeek: string (nullable = true)\n",
      " |-- DepTime: string (nullable = true)\n",
      " |-- CRSDepTime: string (nullable = true)\n",
      " |-- ArrTime: string (nullable = true)\n",
      " |-- CRSArrTime: string (nullable = true)\n",
      " |-- UniqueCarrier: string (nullable = true)\n",
      " |-- FlightNum: string (nullable = true)\n",
      " |-- TailNum: string (nullable = true)\n",
      " |-- ActualElapsedTime: string (nullable = true)\n",
      " |-- CRSElapsedTime: string (nullable = true)\n",
      " |-- AirTime: string (nullable = true)\n",
      " |-- ArrDelay: string (nullable = true)\n",
      " |-- DepDelay: string (nullable = true)\n",
      " |-- Origin: string (nullable = true)\n",
      " |-- Dest: string (nullable = true)\n",
      " |-- Distance: string (nullable = true)\n",
      " |-- TaxiIn: string (nullable = true)\n",
      " |-- TaxiOut: string (nullable = true)\n",
      " |-- Cancelled: string (nullable = true)\n",
      " |-- CancellationCode: string (nullable = true)\n",
      " |-- Diverted: string (nullable = true)\n",
      " |-- CarrierDelay: string (nullable = true)\n",
      " |-- WeatherDelay: string (nullable = true)\n",
      " |-- NASDelay: string (nullable = true)\n",
      " |-- SecurityDelay: string (nullable = true)\n",
      " |-- LateAircraftDelay: string (nullable = true)\n",
      "\n",
      "root\n",
      " |-- Year: string (nullable = true)\n",
      " |-- Month: string (nullable = true)\n",
      " |-- DayofMonth: string (nullable = true)\n",
      " |-- DayOfWeek: string (nullable = true)\n",
      " |-- DepTime: string (nullable = true)\n",
      " |-- CRSDepTime: string (nullable = true)\n",
      " |-- ArrTime: string (nullable = true)\n",
      " |-- CRSArrTime: string (nullable = true)\n",
      " |-- UniqueCarrier: string (nullable = true)\n",
      " |-- FlightNum: string (nullable = true)\n",
      " |-- TailNum: string (nullable = true)\n",
      " |-- ActualElapsedTime: string (nullable = true)\n",
      " |-- CRSElapsedTime: string (nullable = true)\n",
      " |-- AirTime: string (nullable = true)\n",
      " |-- ArrDelay: integer (nullable = true)\n",
      " |-- DepDelay: integer (nullable = true)\n",
      " |-- Origin: string (nullable = true)\n",
      " |-- Dest: string (nullable = true)\n",
      " |-- Distance: string (nullable = true)\n",
      " |-- TaxiIn: string (nullable = true)\n",
      " |-- TaxiOut: string (nullable = true)\n",
      " |-- Cancelled: string (nullable = true)\n",
      " |-- CancellationCode: string (nullable = true)\n",
      " |-- Diverted: string (nullable = true)\n",
      " |-- CarrierDelay: string (nullable = true)\n",
      " |-- WeatherDelay: string (nullable = true)\n",
      " |-- NASDelay: string (nullable = true)\n",
      " |-- SecurityDelay: string (nullable = true)\n",
      " |-- LateAircraftDelay: string (nullable = true)\n",
      "\n"
     ]
    }
   ],
   "source": [
    "df.printSchema()\n",
    "df_1 = df.withColumn(\"DepDelay\", df[\"DepDelay\"].cast(IntegerType()))\n",
    "df_new = df_1.withColumn(\"ArrDelay\", df_1[\"ArrDelay\"].cast(IntegerType()))\n",
    "df_new.printSchema()"
   ]
  },
  {
   "cell_type": "markdown",
   "metadata": {},
   "source": [
    "### 1. Airports experience the most departure delay"
   ]
  },
  {
   "cell_type": "code",
   "execution_count": 5,
   "metadata": {},
   "outputs": [
    {
     "name": "stdout",
     "output_type": "stream",
     "text": [
      "+------+-------+\n",
      "|Origin|    sum|\n",
      "+------+-------+\n",
      "|   ORD|4794484|\n",
      "|   ATL|2918479|\n",
      "|   LAX|2736567|\n",
      "|   DFW|2688934|\n",
      "|   PHX|2677753|\n",
      "|   DEN|2186578|\n",
      "|   SFO|2075439|\n",
      "|   STL|1960993|\n",
      "|   LAS|1957693|\n",
      "|   DTW|1711779|\n",
      "|   PHL|1522129|\n",
      "|   EWR|1412671|\n",
      "|   LGA|1322840|\n",
      "|   MSP|1293944|\n",
      "|   SEA|1264538|\n",
      "|   BOS|1263070|\n",
      "|   CLT|1145079|\n",
      "|   IAH|1102254|\n",
      "|   MCO|1040819|\n",
      "|   BWI|1035490|\n",
      "+------+-------+\n",
      "only showing top 20 rows\n",
      "\n"
     ]
    }
   ],
   "source": [
    "df_delay_most = df_new.groupBy('Origin').agg(f.sum(\"DepDelay\").alias(\"sum\")).sort(desc(\"sum\"))\n",
    "df_delay_most.show()"
   ]
  },
  {
   "cell_type": "code",
   "execution_count": 6,
   "metadata": {},
   "outputs": [
    {
     "data": {
      "text/plain": [
       "<matplotlib.axes._subplots.AxesSubplot at 0x7fdd9a0c2588>"
      ]
     },
     "execution_count": 6,
     "metadata": {},
     "output_type": "execute_result"
    },
    {
     "data": {
      "image/png": "[encoded data removed]",
      "text/plain": [
       "<Figure size 432x288 with 1 Axes>"
      ]
     },
     "metadata": {
      "needs_background": "light"
     },
     "output_type": "display_data"
    }
   ],
   "source": [
    "df_delay_most.limit(5).toPandas().plot.bar(x='Origin', y= 'sum')"
   ]
  },
  {
   "cell_type": "markdown",
   "metadata": {},
   "source": [
    "### 2. Airports experience the least departure delay"
   ]
  },
  {
   "cell_type": "code",
   "execution_count": 7,
   "metadata": {},
   "outputs": [
    {
     "name": "stdout",
     "output_type": "stream",
     "text": [
      "+------+-----+\n",
      "|Origin|  sum|\n",
      "+------+-----+\n",
      "|   GPT|-1352|\n",
      "|   MIB| -628|\n",
      "|   MTJ| -512|\n",
      "|   BQN|  -86|\n",
      "|   LFT|  -29|\n",
      "|   BRO|  -28|\n",
      "|   CHA|  -19|\n",
      "|   PIA|   11|\n",
      "|   AVL|   33|\n",
      "|   DRO|  200|\n",
      "|   LWB|  226|\n",
      "|   ITH|  331|\n",
      "|   TRI|  394|\n",
      "|   SUX|  446|\n",
      "|   CAK|  568|\n",
      "|   GST|  646|\n",
      "|   FAY|  722|\n",
      "|   ERI|  742|\n",
      "|   LSE|  786|\n",
      "|   RAP| 1228|\n",
      "+------+-----+\n",
      "only showing top 20 rows\n",
      "\n"
     ]
    }
   ],
   "source": [
    "df_delay_least = df_new.groupBy('Origin').agg(f.sum(\"DepDelay\").alias(\"sum\")).orderBy(\"sum\")\n",
    "df_delay_least.show()"
   ]
  },
  {
   "cell_type": "code",
   "execution_count": 8,
   "metadata": {},
   "outputs": [
    {
     "data": {
      "text/plain": [
       "<matplotlib.axes._subplots.AxesSubplot at 0x7fdd98b2d240>"
      ]
     },
     "execution_count": 8,
     "metadata": {},
     "output_type": "execute_result"
    },
    {
     "data": {
      "image/png": "[encoded data removed]",
      "text/plain": [
       "<Figure size 432x288 with 1 Axes>"
      ]
     },
     "metadata": {
      "needs_background": "light"
     },
     "output_type": "display_data"
    }
   ],
   "source": [
    "df_delay_least.limit(5).toPandas().plot.bar(x='Origin', y= 'sum')"
   ]
  },
  {
   "cell_type": "markdown",
   "metadata": {},
   "source": [
    "### 3. Airports experience the most arrival delay"
   ]
  },
  {
   "cell_type": "code",
   "execution_count": 9,
   "metadata": {},
   "outputs": [
    {
     "name": "stdout",
     "output_type": "stream",
     "text": [
      "+----+-------+\n",
      "|Dest|    sum|\n",
      "+----+-------+\n",
      "| ORD|4583984|\n",
      "| LAX|2639736|\n",
      "| SFO|2450382|\n",
      "| PHX|2152817|\n",
      "| ATL|1950262|\n",
      "| LGA|1946126|\n",
      "| DEN|1915346|\n",
      "| LAS|1723068|\n",
      "| PHL|1532879|\n",
      "| DFW|1525086|\n",
      "| BOS|1450396|\n",
      "| STL|1446284|\n",
      "| EWR|1434577|\n",
      "| SEA|1278060|\n",
      "| MCO| 948947|\n",
      "| BWI| 926094|\n",
      "| IAH| 850023|\n",
      "| CLT| 847907|\n",
      "| DTW| 839007|\n",
      "| SAN| 802523|\n",
      "+----+-------+\n",
      "only showing top 20 rows\n",
      "\n"
     ]
    }
   ],
   "source": [
    "df_arrD_most = df_new.groupBy('Dest').agg(f.sum(\"ArrDelay\").alias(\"sum\")).sort(desc(\"sum\"))\n",
    "df_arrD_most.show()"
   ]
  },
  {
   "cell_type": "code",
   "execution_count": 10,
   "metadata": {},
   "outputs": [
    {
     "data": {
      "text/plain": [
       "<matplotlib.axes._subplots.AxesSubplot at 0x7fdd98aa9e48>"
      ]
     },
     "execution_count": 10,
     "metadata": {},
     "output_type": "execute_result"
    },
    {
     "data": {
      "image/png": "[encoded data removed]",
      "text/plain": [
       "<Figure size 432x288 with 1 Axes>"
      ]
     },
     "metadata": {
      "needs_background": "light"
     },
     "output_type": "display_data"
    }
   ],
   "source": [
    "df_arrD_most.limit(5).toPandas().plot.bar(x='Dest', y= 'sum')"
   ]
  },
  {
   "cell_type": "markdown",
   "metadata": {},
   "source": [
    "### 4. Airports experience the least arrival delay"
   ]
  },
  {
   "cell_type": "code",
   "execution_count": 11,
   "metadata": {},
   "outputs": [
    {
     "name": "stdout",
     "output_type": "stream",
     "text": [
      "+----+----+\n",
      "|Dest| sum|\n",
      "+----+----+\n",
      "| LWB|-159|\n",
      "| LFT| -79|\n",
      "| PIA|  -4|\n",
      "| MIB| 126|\n",
      "| BQN| 166|\n",
      "| MTJ| 632|\n",
      "| LSE| 660|\n",
      "| BRO| 884|\n",
      "| GST| 948|\n",
      "| DRO| 980|\n",
      "| GPT|1565|\n",
      "| FWA|1980|\n",
      "| CHA|2737|\n",
      "| FAT|2752|\n",
      "| ITO|2997|\n",
      "| SUX|3015|\n",
      "| GTF|3032|\n",
      "| HLN|3238|\n",
      "| GUC|3324|\n",
      "| TRI|3550|\n",
      "+----+----+\n",
      "only showing top 20 rows\n",
      "\n"
     ]
    }
   ],
   "source": [
    "df_arrD_least = df_new.groupBy('Dest').agg(f.sum(\"ArrDelay\").alias(\"sum\")).orderBy(\"sum\")\n",
    "df_arrD_least.show()"
   ]
  },
  {
   "cell_type": "code",
   "execution_count": 12,
   "metadata": {},
   "outputs": [
    {
     "data": {
      "text/plain": [
       "<matplotlib.axes._subplots.AxesSubplot at 0x7fdd98a64550>"
      ]
     },
     "execution_count": 12,
     "metadata": {},
     "output_type": "execute_result"
    },
    {
     "data": {
      "image/png": "[encoded data removed]",
      "text/plain": [
       "<Figure size 432x288 with 1 Axes>"
      ]
     },
     "metadata": {
      "needs_background": "light"
     },
     "output_type": "display_data"
    }
   ],
   "source": [
    "df_arrD_least.limit(5).toPandas().plot.bar(x='Dest', y= 'sum')"
   ]
  },
  {
   "cell_type": "markdown",
   "metadata": {},
   "source": [
    "### 5. Flights experience the most arrival delay"
   ]
  },
  {
   "cell_type": "code",
   "execution_count": 13,
   "metadata": {},
   "outputs": [
    {
     "name": "stdout",
     "output_type": "stream",
     "text": [
      "+---------+-----+\n",
      "|FlightNum|  sum|\n",
      "+---------+-----+\n",
      "|       61|69898|\n",
      "|     1067|66179|\n",
      "|      153|65531|\n",
      "|      345|64033|\n",
      "|      486|62504|\n",
      "|      354|62285|\n",
      "|      219|61769|\n",
      "|      785|61615|\n",
      "|      935|61223|\n",
      "|      350|60881|\n",
      "|      325|59950|\n",
      "|       65|59117|\n",
      "|      492|58968|\n",
      "|      316|58941|\n",
      "|      524|58494|\n",
      "|      509|57693|\n",
      "|       59|57531|\n",
      "|      520|56364|\n",
      "|      670|55721|\n",
      "|      568|55041|\n",
      "+---------+-----+\n",
      "only showing top 20 rows\n",
      "\n"
     ]
    }
   ],
   "source": [
    "df_arrD_most_f = df_new.groupBy('FlightNum').agg(f.sum(\"ArrDelay\").alias(\"sum\")).sort(desc(\"sum\"))\n",
    "df_arrD_most_f.show()"
   ]
  },
  {
   "cell_type": "code",
   "execution_count": 14,
   "metadata": {},
   "outputs": [
    {
     "data": {
      "text/plain": [
       "<matplotlib.axes._subplots.AxesSubplot at 0x7fdd989f32e8>"
      ]
     },
     "execution_count": 14,
     "metadata": {},
     "output_type": "execute_result"
    },
    {
     "data": {
      "image/png": "[encoded data removed]",
      "text/plain": [
       "<Figure size 432x288 with 1 Axes>"
      ]
     },
     "metadata": {
      "needs_background": "light"
     },
     "output_type": "display_data"
    }
   ],
   "source": [
    "df_arrD_most_f.limit(5).toPandas().plot.bar(x='FlightNum', y= 'sum')"
   ]
  },
  {
   "cell_type": "markdown",
   "metadata": {},
   "source": [
    "### 6. Flights experience the least arrival delay"
   ]
  },
  {
   "cell_type": "code",
   "execution_count": 15,
   "metadata": {},
   "outputs": [
    {
     "name": "stdout",
     "output_type": "stream",
     "text": [
      "+---------+-----+\n",
      "|FlightNum|  sum|\n",
      "+---------+-----+\n",
      "|     1385|-2138|\n",
      "|     6509|-1319|\n",
      "|     1317|-1265|\n",
      "|     6851|-1253|\n",
      "|     6511|-1213|\n",
      "|     2333|-1107|\n",
      "|     6803|-1079|\n",
      "|     2983| -951|\n",
      "|     6802| -950|\n",
      "|     6519| -937|\n",
      "|     2535| -926|\n",
      "|     6853| -922|\n",
      "|     6517| -909|\n",
      "|     2753| -887|\n",
      "|     6852| -863|\n",
      "|     6523| -817|\n",
      "|     6848| -803|\n",
      "|     2899| -683|\n",
      "|     6800| -677|\n",
      "|     6857| -663|\n",
      "+---------+-----+\n",
      "only showing top 20 rows\n",
      "\n"
     ]
    }
   ],
   "source": [
    "df_arrD_least_f = df_new.groupBy('FlightNum').agg(f.sum(\"ArrDelay\").alias(\"sum\")).orderBy(\"sum\")\n",
    "df_arrD_least_f.show()"
   ]
  },
  {
   "cell_type": "code",
   "execution_count": 16,
   "metadata": {},
   "outputs": [
    {
     "data": {
      "text/plain": [
       "<matplotlib.axes._subplots.AxesSubplot at 0x7fdd989bcef0>"
      ]
     },
     "execution_count": 16,
     "metadata": {},
     "output_type": "execute_result"
    },
    {
     "data": {
      "image/png": "[encoded data removed]",
      "text/plain": [
       "<Figure size 432x288 with 1 Axes>"
      ]
     },
     "metadata": {
      "needs_background": "light"
     },
     "output_type": "display_data"
    }
   ],
   "source": [
    "df_arrD_least_f.limit(5).toPandas().plot.bar(x='FlightNum', y= 'sum')"
   ]
  },
  {
   "cell_type": "markdown",
   "metadata": {},
   "source": [
    "### 7. Flights experience the most departure delay"
   ]
  },
  {
   "cell_type": "code",
   "execution_count": 17,
   "metadata": {},
   "outputs": [
    {
     "name": "stdout",
     "output_type": "stream",
     "text": [
      "+---------+-----+\n",
      "|FlightNum|  sum|\n",
      "+---------+-----+\n",
      "|       61|75901|\n",
      "|      153|70418|\n",
      "|       65|67805|\n",
      "|     1067|67191|\n",
      "|      486|66327|\n",
      "|      935|66065|\n",
      "|      219|64906|\n",
      "|      316|63619|\n",
      "|      354|63383|\n",
      "|       67|62276|\n",
      "|      492|62005|\n",
      "|       59|61807|\n",
      "|      482|61646|\n",
      "|      785|61086|\n",
      "|      345|61002|\n",
      "|      520|60177|\n",
      "|      180|59786|\n",
      "|       39|57953|\n",
      "|      524|57845|\n",
      "|      325|57494|\n",
      "+---------+-----+\n",
      "only showing top 20 rows\n",
      "\n"
     ]
    }
   ],
   "source": [
    "df_delay_most_f = df_new.groupBy('FlightNum').agg(f.sum(\"DepDelay\").alias(\"sum\")).sort(desc(\"sum\"))\n",
    "df_delay_most_f.show()"
   ]
  },
  {
   "cell_type": "code",
   "execution_count": 18,
   "metadata": {},
   "outputs": [
    {
     "data": {
      "text/plain": [
       "<matplotlib.axes._subplots.AxesSubplot at 0x7fdd988eeeb8>"
      ]
     },
     "execution_count": 18,
     "metadata": {},
     "output_type": "execute_result"
    },
    {
     "data": {
      "image/png": "[encoded data removed]",
      "text/plain": [
       "<Figure size 432x288 with 1 Axes>"
      ]
     },
     "metadata": {
      "needs_background": "light"
     },
     "output_type": "display_data"
    }
   ],
   "source": [
    "df_delay_most_f.limit(5).toPandas().plot.bar(x='FlightNum', y= 'sum')"
   ]
  },
  {
   "cell_type": "markdown",
   "metadata": {
    "scrolled": true
   },
   "source": [
    "### 8. Flights experience the least departure delay"
   ]
  },
  {
   "cell_type": "code",
   "execution_count": 19,
   "metadata": {},
   "outputs": [
    {
     "name": "stdout",
     "output_type": "stream",
     "text": [
      "+---------+----+\n",
      "|FlightNum| sum|\n",
      "+---------+----+\n",
      "|     6803|-749|\n",
      "|     6802|-601|\n",
      "|     6806|-468|\n",
      "|     2601|-453|\n",
      "|     6857|-427|\n",
      "|     6853|-420|\n",
      "|     6851|-411|\n",
      "|     6855|-395|\n",
      "|     6804|-331|\n",
      "|     6849|-315|\n",
      "|     6800|-310|\n",
      "|     6848|-262|\n",
      "|     6863|-247|\n",
      "|     6810|-200|\n",
      "|     6818|-194|\n",
      "|     6859|-188|\n",
      "|     2535|-182|\n",
      "|     6814|-167|\n",
      "|     6400|-162|\n",
      "|     6812|-148|\n",
      "+---------+----+\n",
      "only showing top 20 rows\n",
      "\n"
     ]
    }
   ],
   "source": [
    "df_delay_least_f = df_new.groupBy('FlightNum').agg(f.sum(\"DepDelay\").alias(\"sum\")).orderBy(\"sum\")\n",
    "df_delay_least_f.show()"
   ]
  },
  {
   "cell_type": "code",
   "execution_count": 20,
   "metadata": {},
   "outputs": [
    {
     "data": {
      "text/plain": [
       "<matplotlib.axes._subplots.AxesSubplot at 0x7fdd988c2dd8>"
      ]
     },
     "execution_count": 20,
     "metadata": {},
     "output_type": "execute_result"
    },
    {
     "data": {
      "image/png": "[encoded data removed]",
      "text/plain": [
       "<Figure size 432x288 with 1 Axes>"
      ]
     },
     "metadata": {
      "needs_background": "light"
     },
     "output_type": "display_data"
    }
   ],
   "source": [
    "df_delay_least_f.limit(5).toPandas().plot.bar(x='FlightNum', y= 'sum')"
   ]
  },
  {
   "cell_type": "markdown",
   "metadata": {},
   "source": [
    "### 9. Average arrival delay per carrier"
   ]
  },
  {
   "cell_type": "code",
   "execution_count": 21,
   "metadata": {},
   "outputs": [
    {
     "name": "stdout",
     "output_type": "stream",
     "text": [
      "+-------------+------------------+\n",
      "|UniqueCarrier|               avg|\n",
      "+-------------+------------------+\n",
      "|           AQ| 2.541563104114885|\n",
      "|           NW| 5.949147881395566|\n",
      "|           CO| 6.849962457488627|\n",
      "|           DL| 8.279562675582072|\n",
      "|           TW| 9.143521902349235|\n",
      "|           AA| 9.726826100857926|\n",
      "|           US| 9.861894755604572|\n",
      "|           WN|10.477490008880995|\n",
      "|           AS|12.821446179129007|\n",
      "|           HP|14.938117949232083|\n",
      "|           UA|18.479591948454342|\n",
      "+-------------+------------------+\n",
      "\n"
     ]
    }
   ],
   "source": [
    "df_arrD_avg = df_new.groupBy('UniqueCarrier').agg(f.avg(\"ArrDelay\").alias(\"avg\")).orderBy(\"avg\")\n",
    "df_arrD_avg.show()"
   ]
  },
  {
   "cell_type": "code",
   "execution_count": 22,
   "metadata": {},
   "outputs": [
    {
     "data": {
      "text/plain": [
       "<matplotlib.axes._subplots.AxesSubplot at 0x7fdd9882c2b0>"
      ]
     },
     "execution_count": 22,
     "metadata": {},
     "output_type": "execute_result"
    },
    {
     "data": {
      "image/png": "[encoded data removed]",
      "text/plain": [
       "<Figure size 432x288 with 1 Axes>"
      ]
     },
     "metadata": {
      "needs_background": "light"
     },
     "output_type": "display_data"
    }
   ],
   "source": [
    "df_arrD_avg.limit(5).toPandas().plot.bar(x='UniqueCarrier', y= 'avg')"
   ]
  },
  {
   "cell_type": "markdown",
   "metadata": {},
   "source": [
    "### 10. Average depature delay per carrier"
   ]
  },
  {
   "cell_type": "code",
   "execution_count": 23,
   "metadata": {},
   "outputs": [
    {
     "name": "stdout",
     "output_type": "stream",
     "text": [
      "+-------------+------------------+\n",
      "|UniqueCarrier|               avg|\n",
      "+-------------+------------------+\n",
      "|           AQ|1.5896161281413974|\n",
      "|           NW| 7.725420104963274|\n",
      "|           CO| 8.527505573702493|\n",
      "|           US| 9.140569466629843|\n",
      "|           DL|     9.45530543322|\n",
      "|           TW| 9.593641289613062|\n",
      "|           AA|11.038083717379468|\n",
      "|           WN|12.707381516850198|\n",
      "|           AS|12.951644905055739|\n",
      "|           HP| 14.44049719173445|\n",
      "|           UA| 17.60769115237575|\n",
      "+-------------+------------------+\n",
      "\n"
     ]
    }
   ],
   "source": [
    "df_delay_avg = df_new.groupBy('UniqueCarrier').agg(f.avg(\"DepDelay\").alias(\"avg\")).orderBy(\"avg\")\n",
    "df_delay_avg.show()"
   ]
  },
  {
   "cell_type": "code",
   "execution_count": 24,
   "metadata": {},
   "outputs": [
    {
     "data": {
      "text/plain": [
       "<matplotlib.axes._subplots.AxesSubplot at 0x7fdd987c1b70>"
      ]
     },
     "execution_count": 24,
     "metadata": {},
     "output_type": "execute_result"
    },
    {
     "data": {
      "image/png": "[encoded data removed]",
      "text/plain": [
       "<Figure size 432x288 with 1 Axes>"
      ]
     },
     "metadata": {
      "needs_background": "light"
     },
     "output_type": "display_data"
    }
   ],
   "source": [
    "df_delay_avg.limit(5).toPandas().plot.bar(x='UniqueCarrier', y= 'avg')"
   ]
  },
  {
   "cell_type": "code",
   "execution_count": null,
   "metadata": {},
   "outputs": [],
   "source": []
  }
 ],
 "metadata": {
  "kernelspec": {
   "display_name": "Python 3",
   "language": "python",
   "name": "python3"
  },
  "language_info": {
   "codemirror_mode": {
    "name": "ipython",
    "version": 3
   },
   "file_extension": ".py",
   "mimetype": "text/x-python",
   "name": "python",
   "nbconvert_exporter": "python",
   "pygments_lexer": "ipython3",
   "version": "3.6.9"
  }
 },
 "nbformat": 4,
 "nbformat_minor": 2
}
